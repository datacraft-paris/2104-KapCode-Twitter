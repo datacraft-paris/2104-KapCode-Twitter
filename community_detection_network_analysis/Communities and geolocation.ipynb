{
 "cells": [
  {
   "cell_type": "markdown",
   "metadata": {},
   "source": [
    "# COMMUNITY DETECTION AND GEOLOCATION "
   ]
  },
  {
   "cell_type": "markdown",
   "metadata": {},
   "source": [
    "## Load data "
   ]
  },
  {
   "cell_type": "code",
   "execution_count": null,
   "metadata": {},
   "outputs": [],
   "source": [
    "import pandas as pd\n",
    "df = pd.read_excel(\"datacraft_data_vaccination_5g_2021_05_11.xlsx\", engine=\"openpyxl\")\n",
    "df.head()"
   ]
  },
  {
   "cell_type": "code",
   "execution_count": null,
   "metadata": {},
   "outputs": [],
   "source": [
    "from matplotlib import pyplot as plt\n",
    "import seaborn as sns"
   ]
  },
  {
   "cell_type": "markdown",
   "metadata": {},
   "source": [
    "## Geolocation "
   ]
  },
  {
   "cell_type": "markdown",
   "metadata": {},
   "source": [
    "### Get coordinates of places indicated in the data "
   ]
  },
  {
   "cell_type": "code",
   "execution_count": null,
   "metadata": {},
   "outputs": [],
   "source": [
    "!pip install geopy --user"
   ]
  },
  {
   "cell_type": "code",
   "execution_count": null,
   "metadata": {},
   "outputs": [],
   "source": [
    "from geopy.geocoders import Nominatim"
   ]
  },
  {
   "cell_type": "code",
   "execution_count": null,
   "metadata": {},
   "outputs": [],
   "source": [
    "geocoder = Nominatim(user_agent=\"datacrafting_exploTweets\")\n",
    "adresse = \"191 rue Saint-Jacques, Paris, France\"\n",
    "location = geocoder.geocode(adresse)\n",
    "print((location.latitude, location.longitude))"
   ]
  },
  {
   "cell_type": "code",
   "execution_count": 1,
   "metadata": {
    "collapsed": true
   },
   "outputs": [
    {
     "ename": "NameError",
     "evalue": "name 'df' is not defined",
     "output_type": "error",
     "traceback": [
      "\u001b[1;31m---------------------------------------------------------------------------\u001b[0m",
      "\u001b[1;31mNameError\u001b[0m                                 Traceback (most recent call last)",
      "\u001b[1;32m<ipython-input-1-429879111262>\u001b[0m in \u001b[0;36m<module>\u001b[1;34m\u001b[0m\n\u001b[1;32m----> 1\u001b[1;33m \u001b[0mdf\u001b[0m\u001b[1;33m.\u001b[0m\u001b[0mplace_name\u001b[0m\u001b[1;33m.\u001b[0m\u001b[0mhead\u001b[0m\u001b[1;33m(\u001b[0m\u001b[1;33m)\u001b[0m\u001b[1;33m\u001b[0m\u001b[1;33m\u001b[0m\u001b[0m\n\u001b[0m",
      "\u001b[1;31mNameError\u001b[0m: name 'df' is not defined"
     ]
    }
   ],
   "source": [
    "df.place_name.head()"
   ]
  },
  {
   "cell_type": "code",
   "execution_count": null,
   "metadata": {},
   "outputs": [],
   "source": [
    "from tqdm import tqdm # df_media.media_url.value_counts()[df_media.media_url.value_counts()>1]\n",
    "geocoder = Nominatim(user_agent=\"datacrafting_exploTweets\")\n",
    "coding_place = dict()\n",
    "for place, count in tqdm(df.place_name.value_counts()[df.place_name.value_counts()>1].iteritems()):\n",
    "    loc = geocoder.geocode(place)\n",
    "    coding_place[place] = loc"
   ]
  },
  {
   "cell_type": "code",
   "execution_count": null,
   "metadata": {},
   "outputs": [],
   "source": [
    "coding_place;head()"
   ]
  },
  {
   "cell_type": "code",
   "execution_count": null,
   "metadata": {},
   "outputs": [],
   "source": [
    "def transfoPlaceGps(strPlace):\n",
    "    if strPlace in coding_place:\n",
    "        return (coding_place.get(strPlace).longitude, coding_place.get(strPlace).latitude) \n",
    "    else:\n",
    "        return None\n",
    "\n",
    "# df[\"position_gps\"] = df.place_name.apply(lambda x: if not pd.isna(x) else None)"
   ]
  },
  {
   "cell_type": "code",
   "execution_count": null,
   "metadata": {},
   "outputs": [],
   "source": [
    "df[\"position_gps\"] = df.place_name.apply(lambda x: transfoPlaceGps(x))"
   ]
  },
  {
   "cell_type": "markdown",
   "metadata": {},
   "source": [
    "### Plot coordinates "
   ]
  },
  {
   "cell_type": "code",
   "execution_count": null,
   "metadata": {},
   "outputs": [],
   "source": [
    "from matplotlib import pyplot as plt\n",
    "\n",
    "from bokeh.models import GeoJSONDataSource\n",
    "from bokeh.plotting import figure, show, output_notebook\n",
    "import geopandas as gp\n",
    "\n",
    "import bokeh.io\n",
    "\n",
    "bokeh.io.reset_output()\n",
    "bokeh.io.output_notebook()\n",
    "#output_notebook()\n",
    "\n",
    "## tiles, worldmap\n",
    "world = gp.read_file(gp.datasets.get_path('naturalearth_lowres'))\n",
    "geo_source = GeoJSONDataSource(geojson=world.to_json())\n",
    "\n",
    "## setting up the figure\n",
    "p = figure(title='World', tooltips=[('Country', '@name')],\n",
    "           x_range=(-180, 180), y_range=(-90, 90), \n",
    "           x_axis_location=None, y_axis_location=None,\n",
    "           plot_width=900, plot_height=500\n",
    "          )\n",
    "p.patches('xs', 'ys', fill_alpha=0.4, fill_color='grey', \n",
    "          line_color='black', line_width=0.5, source=geo_source\n",
    "         )\n",
    "\n",
    "## the graph: edgelist and node_positions\n",
    "# edge_list = [(1,2), (1,5), (2,3), (2,4), (3,4)]\n",
    "# pos = {1:(2, 47), \n",
    "#       2: (-75, 42),\n",
    "#       3:(-117, 34),\n",
    "#       4:(-122, 49),\n",
    "#       5:(25, -28)}\n",
    "\n",
    "# Now group these values together into a lists of x (longitude) and y (latitude)\n",
    "x = [position.longitude for position in coding_place.values()]\n",
    "y = [position.latitude for position in coding_place.values()]\n",
    "\n",
    "#draw_edges:\n",
    "# for e in edge_list:\n",
    "#     p.line([pos[e[0]][0], pos[e[1]][0]], [pos[e[0]][1], pos[e[1]][1]], line_width=2)\n",
    "\n",
    "# The scattered Node markers\n",
    "p.circle(x, y, size=8, color='navy', alpha=1)\n",
    "\n",
    "show(p)"
   ]
  },
  {
   "cell_type": "markdown",
   "metadata": {},
   "source": [
    "## Community detection"
   ]
  },
  {
   "cell_type": "code",
   "execution_count": null,
   "metadata": {},
   "outputs": [],
   "source": [
    "import networkx as nx\n",
    "import community"
   ]
  },
  {
   "cell_type": "markdown",
   "metadata": {},
   "source": [
    "### Create network"
   ]
  },
  {
   "cell_type": "markdown",
   "metadata": {},
   "source": [
    "#### Avec une fonction"
   ]
  },
  {
   "cell_type": "code",
   "execution_count": null,
   "metadata": {},
   "outputs": [],
   "source": [
    "def compute_cluster(df):\n",
    "    \"\"\"\n",
    "    df: DataFrame with at least columns ['pseudo', 'retweeted_screen_name', 'tweet_date']\n",
    "    \n",
    "    \"\"\"\n",
    "    print('Build graph...')\n",
    "    G = nx.DiGraph()\n",
    "    df_for_graph = df[df.retweeted_screen_name.notna()][[\"pseudo\", \"retweeted_screen_name\", \"tweet_date\"]]\n",
    "    for i, j in df[df.retweeted_screen_name.notna()][[\"pseudo\", \"retweeted_screen_name\", \"tweet_date\"]].iterrows():\n",
    "        G.add_edge(j.pseudo, j.retweeted_screen_name, date=j.tweet_date)\n",
    "    \n",
    "    print('Find clusters...')\n",
    "    Gc = nx.subgraph(G, max(nx.connected_components(nx.Graph(G)), key=len))\n",
    "    comms = community.best_partition(nx.Graph(Gc))\n",
    "    \n",
    "    clust = []\n",
    "    for i, pseudo in enumerate(df['pseudo']):\n",
    "        if pseudo in comms.keys():\n",
    "            clust.append(comms[pseudo])\n",
    "        else:\n",
    "            clust.append(-1)       # -1 if the node of the pseudo is not in the giant connected component\n",
    "    \n",
    "    df['cluster'] = clust"
   ]
  },
  {
   "cell_type": "code",
   "execution_count": null,
   "metadata": {},
   "outputs": [],
   "source": [
    "df['cluster']"
   ]
  },
  {
   "cell_type": "markdown",
   "metadata": {},
   "source": [
    "#### Sans fonction"
   ]
  },
  {
   "cell_type": "code",
   "execution_count": null,
   "metadata": {},
   "outputs": [],
   "source": [
    "G = nx.DiGraph()\n",
    "for i, j in df[df.retweeted_screen_name.notna()][[\"pseudo\", \"retweeted_screen_name\", \"tweet_date\"]].iterrows():\n",
    "    G.add_edge(j.pseudo, j.retweeted_screen_name, date=j.tweet_date)"
   ]
  },
  {
   "cell_type": "code",
   "execution_count": null,
   "metadata": {},
   "outputs": [],
   "source": [
    "G.number_of_nodes(), G.number_of_edges()"
   ]
  },
  {
   "cell_type": "code",
   "execution_count": null,
   "metadata": {},
   "outputs": [],
   "source": [
    "Gc = nx.subgraph(G, max(nx.connected_components(nx.Graph(G)), key=len))"
   ]
  },
  {
   "cell_type": "code",
   "execution_count": null,
   "metadata": {},
   "outputs": [],
   "source": [
    "Gc.number_of_nodes(), Gc.number_of_edges()"
   ]
  },
  {
   "cell_type": "markdown",
   "metadata": {},
   "source": [
    "Identify communities"
   ]
  },
  {
   "cell_type": "code",
   "execution_count": null,
   "metadata": {},
   "outputs": [],
   "source": [
    "comms = community.best_partition(nx.Graph(Gc))"
   ]
  },
  {
   "cell_type": "code",
   "execution_count": null,
   "metadata": {},
   "outputs": [],
   "source": [
    "result_communautes = dict()\n",
    "for k in comms.keys():\n",
    "    if comms[k] in result_communautes:\n",
    "        result_communautes[comms[k]].append(k)\n",
    "    else:\n",
    "        result_communautes[comms[k]] = [k]"
   ]
  },
  {
   "cell_type": "code",
   "execution_count": null,
   "metadata": {},
   "outputs": [],
   "source": [
    "for i in range(40):\n",
    "    print(i, len(result_communautes[i]))"
   ]
  },
  {
   "cell_type": "code",
   "execution_count": null,
   "metadata": {},
   "outputs": [],
   "source": [
    "## Store the results: \n",
    "import json\n",
    "f = open(\"communautes_composante_principale.json\",\"w\")\n",
    "json.dump(comms, f)\n",
    "f.close()"
   ]
  },
  {
   "cell_type": "code",
   "execution_count": null,
   "metadata": {},
   "outputs": [],
   "source": [
    "# Load the results: \n",
    "import json\n",
    "f = open(\"communautes_composante_principale.json\",\"r\")\n",
    "comms = json.load(f)\n",
    "f.close()"
   ]
  },
  {
   "cell_type": "code",
   "execution_count": null,
   "metadata": {},
   "outputs": [],
   "source": [
    "#Get community of a user : \n",
    "comms[\"martineroy1959\"]"
   ]
  },
  {
   "cell_type": "code",
   "execution_count": null,
   "metadata": {},
   "outputs": [],
   "source": [
    "#Get user from community :\n",
    "df[df.pseudo.isin(result_communautes[4]) & df.retweeted_screen_name.isna() & df.place_name.notna()][[\"pseudo\", \"tweet\", \"tweet_date\", \"place_name\"]]"
   ]
  },
  {
   "cell_type": "markdown",
   "metadata": {},
   "source": [
    "### Geolocation of communities "
   ]
  },
  {
   "cell_type": "code",
   "execution_count": null,
   "metadata": {},
   "outputs": [],
   "source": [
    "from matplotlib import pyplot as plt\n",
    "\n",
    "from bokeh.models import GeoJSONDataSource\n",
    "from bokeh.plotting import figure, show, output_notebook\n",
    "import geopandas as gp\n",
    "\n",
    "import bokeh.io\n",
    "\n",
    "\n",
    "def geoPlotGroup(groupID):\n",
    "    bokeh.io.reset_output()\n",
    "    bokeh.io.output_notebook()\n",
    "    #output_notebook()\n",
    "\n",
    "    ## tiles, worldmap\n",
    "    world = gp.read_file(gp.datasets.get_path('naturalearth_lowres'))\n",
    "    geo_source = GeoJSONDataSource(geojson=world.to_json())\n",
    "\n",
    "    ## setting up the figure\n",
    "    p = figure(title='World', tooltips=[('Country', '@name')],\n",
    "               x_range=(-180, 180), y_range=(-90, 90), \n",
    "               x_axis_location=None, y_axis_location=None,\n",
    "               plot_width=900, plot_height=500\n",
    "              )\n",
    "    p.patches('xs', 'ys', fill_alpha=0.4, fill_color='grey', \n",
    "              line_color='black', line_width=0.5, source=geo_source\n",
    "             )\n",
    "\n",
    "    # Now group these values together into a lists of x (longitude) and y (latitude)\n",
    "    temp_df = df[df.pseudo.isin(result_communautes[groupID]) & df.place_name.notna()][[\"pseudo\", \"tweet\", \"tweet_date\", \"place_name\", \"position_gps\"]]\n",
    "    \n",
    "    x = [row.position_gps[0] for _,row in temp_df[temp_df.position_gps.notna()].iterrows()]\n",
    "    y = [row.position_gps[1] for _,row in temp_df[temp_df.position_gps.notna()].iterrows()]\n",
    "#     size = []\n",
    "\n",
    "    #draw_edges:\n",
    "    # for e in edge_list:\n",
    "    #     p.line([pos[e[0]][0], pos[e[1]][0]], [pos[e[0]][1], pos[e[1]][1]], line_width=2)\n",
    "\n",
    "    # The scattered Node markers\n",
    "    p.circle(x, y, size=8, color='navy', alpha=1)\n",
    "\n",
    "    show(p)"
   ]
  },
  {
   "cell_type": "code",
   "execution_count": null,
   "metadata": {},
   "outputs": [],
   "source": [
    "# Plot for user 12 : \n",
    "geoPlotGroup(12)"
   ]
  },
  {
   "cell_type": "code",
   "execution_count": null,
   "metadata": {},
   "outputs": [],
   "source": [
    "# Check the users of this cluster :  \n",
    "df[df.pseudo.isin(result_communautes[12]) & df.retweeted_screen_name.isna()][[\"pseudo\", \"tweet\", \"tweet_date\", \"place_name\"]]"
   ]
  },
  {
   "cell_type": "code",
   "execution_count": null,
   "metadata": {},
   "outputs": [],
   "source": [
    "from wordcloud import WordCloud\n",
    "from matplotlib import pyplot as plt\n",
    "from PIL import Image"
   ]
  },
  {
   "cell_type": "code",
   "execution_count": null,
   "metadata": {},
   "outputs": [],
   "source": [
    "#Check out words from this cluster \n",
    "groupID = 12\n",
    "stopW = [\"un\", \"une\", \"le\", \"la\", \"de\", \"des\", \"et\", \"rt\", \"https\", \"co\", \"est\", \"pas\", \"il\", \"elle\"]\n",
    "text = \".\".join(df[df.pseudo.isin(result_communautes[groupID])].tweet_formatted.sample(500))\n",
    "wordcloud = WordCloud(background_color = 'white', stopwords = stopW, max_words = 50).generate(text)\n",
    "plt.imshow(wordcloud)\n",
    "plt.axis(\"off\")\n",
    "plt.show()"
   ]
  }
 ],
 "metadata": {
  "kernelspec": {
   "display_name": "Python 3",
   "language": "python",
   "name": "python3"
  },
  "language_info": {
   "codemirror_mode": {
    "name": "ipython",
    "version": 3
   },
   "file_extension": ".py",
   "mimetype": "text/x-python",
   "name": "python",
   "nbconvert_exporter": "python",
   "pygments_lexer": "ipython3",
   "version": "3.8.3"
  }
 },
 "nbformat": 4,
 "nbformat_minor": 4
}
