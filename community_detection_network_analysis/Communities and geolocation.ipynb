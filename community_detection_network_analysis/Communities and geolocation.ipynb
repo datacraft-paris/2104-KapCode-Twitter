{
 "cells": [
  {
   "cell_type": "markdown",
   "metadata": {},
   "source": [
    "# COMMUNITY DETECTION AND GEOLOCATION "
   ]
  },
  {
   "cell_type": "markdown",
   "metadata": {},
   "source": [
    "## Load data "
   ]
  },
  {
   "cell_type": "code",
   "execution_count": 1,
   "metadata": {},
   "outputs": [
    {
     "data": {
      "text/html": [
       "<div>\n",
       "<style scoped>\n",
       "    .dataframe tbody tr th:only-of-type {\n",
       "        vertical-align: middle;\n",
       "    }\n",
       "\n",
       "    .dataframe tbody tr th {\n",
       "        vertical-align: top;\n",
       "    }\n",
       "\n",
       "    .dataframe thead th {\n",
       "        text-align: right;\n",
       "    }\n",
       "</style>\n",
       "<table border=\"1\" class=\"dataframe\">\n",
       "  <thead>\n",
       "    <tr style=\"text-align: right;\">\n",
       "      <th></th>\n",
       "      <th>pseudo</th>\n",
       "      <th>tweet</th>\n",
       "      <th>tweet_date</th>\n",
       "      <th>tweet_url</th>\n",
       "      <th>tweet_hashtags</th>\n",
       "      <th>tweet_urls</th>\n",
       "      <th>tweet_mentions</th>\n",
       "      <th>status_id</th>\n",
       "      <th>tweet_formatted</th>\n",
       "      <th>is_rt</th>\n",
       "      <th>...</th>\n",
       "      <th>name</th>\n",
       "      <th>location</th>\n",
       "      <th>description</th>\n",
       "      <th>followers_count</th>\n",
       "      <th>friends_count</th>\n",
       "      <th>listed_count</th>\n",
       "      <th>statuses_count</th>\n",
       "      <th>favourites_count</th>\n",
       "      <th>account_created_at</th>\n",
       "      <th>profile_expanded_url</th>\n",
       "    </tr>\n",
       "  </thead>\n",
       "  <tbody>\n",
       "    <tr>\n",
       "      <th>0</th>\n",
       "      <td>(Mysteriously Unnamed)</td>\n",
       "      <td>@Cheewyy4 @AiphanMarcel @nonopp4 Quand il t' i...</td>\n",
       "      <td>2020-04-05 20:21:03.0</td>\n",
       "      <td>http://twitter.com//statuses/1246895646730260488</td>\n",
       "      <td>NaN</td>\n",
       "      <td>NaN</td>\n",
       "      <td>Cheewyy4| nonopp4</td>\n",
       "      <td>1246895646730260488</td>\n",
       "      <td>@cheewyy4 @aiphanmarcel @nonopp4 quand il t im...</td>\n",
       "      <td>False</td>\n",
       "      <td>...</td>\n",
       "      <td>NaN</td>\n",
       "      <td>NaN</td>\n",
       "      <td>NaN</td>\n",
       "      <td>NaN</td>\n",
       "      <td>NaN</td>\n",
       "      <td>NaN</td>\n",
       "      <td>NaN</td>\n",
       "      <td>NaN</td>\n",
       "      <td>NaT</td>\n",
       "      <td>NaN</td>\n",
       "    </tr>\n",
       "    <tr>\n",
       "      <th>1</th>\n",
       "      <td>_________adaa</td>\n",
       "      <td>@umut_dkr Je t’explique : dans ce soie disant ...</td>\n",
       "      <td>2020-11-12 15:03:13.0</td>\n",
       "      <td>http://twitter.com/_________adaa/statuses/1326...</td>\n",
       "      <td>NaN</td>\n",
       "      <td>NaN</td>\n",
       "      <td>umut_dkr</td>\n",
       "      <td>1326903382662127622</td>\n",
       "      <td>@umut_dkr je t explique : dans ce soie disant ...</td>\n",
       "      <td>False</td>\n",
       "      <td>...</td>\n",
       "      <td>ADAA 💕🇸🇳</td>\n",
       "      <td>Paris, France</td>\n",
       "      <td>De passage 🙃</td>\n",
       "      <td>729.0</td>\n",
       "      <td>431.0</td>\n",
       "      <td>0.0</td>\n",
       "      <td>3347.0</td>\n",
       "      <td>4165.0</td>\n",
       "      <td>2020-03-27 17:58:56</td>\n",
       "      <td>https://instagram.com/___.adaaa?igshid=1re6u03...</td>\n",
       "    </tr>\n",
       "    <tr>\n",
       "      <th>2</th>\n",
       "      <td>______Stan_____</td>\n",
       "      <td>RT @laurentchemla Quelqu'un a déjà réussi à fa...</td>\n",
       "      <td>2021-01-13 14:37:39.0</td>\n",
       "      <td>http://twitter.com/______Stan_____/statuses/13...</td>\n",
       "      <td>NaN</td>\n",
       "      <td>NaN</td>\n",
       "      <td>laurentchemla</td>\n",
       "      <td>1349364994165633024</td>\n",
       "      <td>rt @laurentchemla quelqu un a deja reussi a fa...</td>\n",
       "      <td>True</td>\n",
       "      <td>...</td>\n",
       "      <td>Stan</td>\n",
       "      <td>Marseille, France</td>\n",
       "      <td>Dolce Vita à Marseille. \\nDiffuseur de bon pla...</td>\n",
       "      <td>509.0</td>\n",
       "      <td>468.0</td>\n",
       "      <td>22.0</td>\n",
       "      <td>18153.0</td>\n",
       "      <td>11004.0</td>\n",
       "      <td>2014-10-26 13:18:03</td>\n",
       "      <td>NaN</td>\n",
       "    </tr>\n",
       "    <tr>\n",
       "      <th>3</th>\n",
       "      <td>_____Aurore</td>\n",
       "      <td>RT @Lola__bos POITIERS je suis nounou pour ce ...</td>\n",
       "      <td>2020-10-13 05:07:59.0</td>\n",
       "      <td>http://twitter.com/_____Aurore/statuses/131588...</td>\n",
       "      <td>NaN</td>\n",
       "      <td>https://t.co/wNxLIcNzoh</td>\n",
       "      <td>Lola__bos</td>\n",
       "      <td>1315881950004088833</td>\n",
       "      <td>rt @lola__bos poitiers je suis nounou pour ce ...</td>\n",
       "      <td>True</td>\n",
       "      <td>...</td>\n",
       "      <td>aurora 🇫🇷🇮🇹</td>\n",
       "      <td>Italy</td>\n",
       "      <td>twitter is dark and full of spoilers.</td>\n",
       "      <td>475.0</td>\n",
       "      <td>353.0</td>\n",
       "      <td>12.0</td>\n",
       "      <td>66194.0</td>\n",
       "      <td>2097.0</td>\n",
       "      <td>2012-01-07 17:21:43</td>\n",
       "      <td>https://unefrenchieenitalie.home.blog/</td>\n",
       "    </tr>\n",
       "    <tr>\n",
       "      <th>4</th>\n",
       "      <td>_____ilham</td>\n",
       "      <td>RT @MikeStnm_ Moi quand le gouvernement contrô...</td>\n",
       "      <td>2020-11-13 00:09:38.0</td>\n",
       "      <td>http://twitter.com/_____ilham/statuses/1327040...</td>\n",
       "      <td>NaN</td>\n",
       "      <td>https://t.co/WGy1705Ie8</td>\n",
       "      <td>MikeStnm_</td>\n",
       "      <td>1327040891404611586</td>\n",
       "      <td>rt @mikestnm_ moi quand le gouvernement contro...</td>\n",
       "      <td>True</td>\n",
       "      <td>...</td>\n",
       "      <td>Chinup</td>\n",
       "      <td>NaN</td>\n",
       "      <td>Open up ur soul show me how its fake</td>\n",
       "      <td>37.0</td>\n",
       "      <td>94.0</td>\n",
       "      <td>0.0</td>\n",
       "      <td>1265.0</td>\n",
       "      <td>1443.0</td>\n",
       "      <td>2016-11-24 19:22:51</td>\n",
       "      <td>NaN</td>\n",
       "    </tr>\n",
       "  </tbody>\n",
       "</table>\n",
       "<p>5 rows × 31 columns</p>\n",
       "</div>"
      ],
      "text/plain": [
       "                   pseudo                                              tweet  \\\n",
       "0  (Mysteriously Unnamed)  @Cheewyy4 @AiphanMarcel @nonopp4 Quand il t' i...   \n",
       "1           _________adaa  @umut_dkr Je t’explique : dans ce soie disant ...   \n",
       "2         ______Stan_____  RT @laurentchemla Quelqu'un a déjà réussi à fa...   \n",
       "3             _____Aurore  RT @Lola__bos POITIERS je suis nounou pour ce ...   \n",
       "4              _____ilham  RT @MikeStnm_ Moi quand le gouvernement contrô...   \n",
       "\n",
       "              tweet_date                                          tweet_url  \\\n",
       "0  2020-04-05 20:21:03.0   http://twitter.com//statuses/1246895646730260488   \n",
       "1  2020-11-12 15:03:13.0  http://twitter.com/_________adaa/statuses/1326...   \n",
       "2  2021-01-13 14:37:39.0  http://twitter.com/______Stan_____/statuses/13...   \n",
       "3  2020-10-13 05:07:59.0  http://twitter.com/_____Aurore/statuses/131588...   \n",
       "4  2020-11-13 00:09:38.0  http://twitter.com/_____ilham/statuses/1327040...   \n",
       "\n",
       "  tweet_hashtags               tweet_urls      tweet_mentions  \\\n",
       "0            NaN                      NaN  Cheewyy4| nonopp4    \n",
       "1            NaN                      NaN           umut_dkr    \n",
       "2            NaN                      NaN      laurentchemla    \n",
       "3            NaN  https://t.co/wNxLIcNzoh          Lola__bos    \n",
       "4            NaN  https://t.co/WGy1705Ie8          MikeStnm_    \n",
       "\n",
       "             status_id                                    tweet_formatted  \\\n",
       "0  1246895646730260488  @cheewyy4 @aiphanmarcel @nonopp4 quand il t im...   \n",
       "1  1326903382662127622  @umut_dkr je t explique : dans ce soie disant ...   \n",
       "2  1349364994165633024  rt @laurentchemla quelqu un a deja reussi a fa...   \n",
       "3  1315881950004088833  rt @lola__bos poitiers je suis nounou pour ce ...   \n",
       "4  1327040891404611586  rt @mikestnm_ moi quand le gouvernement contro...   \n",
       "\n",
       "   is_rt  ...         name           location  \\\n",
       "0  False  ...          NaN                NaN   \n",
       "1  False  ...     ADAA 💕🇸🇳      Paris, France   \n",
       "2   True  ...         Stan  Marseille, France   \n",
       "3   True  ...  aurora 🇫🇷🇮🇹              Italy   \n",
       "4   True  ...       Chinup                NaN   \n",
       "\n",
       "                                         description followers_count  \\\n",
       "0                                                NaN             NaN   \n",
       "1                                       De passage 🙃           729.0   \n",
       "2  Dolce Vita à Marseille. \\nDiffuseur de bon pla...           509.0   \n",
       "3              twitter is dark and full of spoilers.           475.0   \n",
       "4               Open up ur soul show me how its fake            37.0   \n",
       "\n",
       "  friends_count listed_count statuses_count favourites_count  \\\n",
       "0           NaN          NaN            NaN              NaN   \n",
       "1         431.0          0.0         3347.0           4165.0   \n",
       "2         468.0         22.0        18153.0          11004.0   \n",
       "3         353.0         12.0        66194.0           2097.0   \n",
       "4          94.0          0.0         1265.0           1443.0   \n",
       "\n",
       "   account_created_at                               profile_expanded_url  \n",
       "0                 NaT                                                NaN  \n",
       "1 2020-03-27 17:58:56  https://instagram.com/___.adaaa?igshid=1re6u03...  \n",
       "2 2014-10-26 13:18:03                                                NaN  \n",
       "3 2012-01-07 17:21:43             https://unefrenchieenitalie.home.blog/  \n",
       "4 2016-11-24 19:22:51                                                NaN  \n",
       "\n",
       "[5 rows x 31 columns]"
      ]
     },
     "execution_count": 1,
     "metadata": {},
     "output_type": "execute_result"
    }
   ],
   "source": [
    "import pandas as pd\n",
    "df = pd.read_excel(\"datacraft_data_vaccination_5g_2021_05_11.xlsx\", engine=\"openpyxl\")\n",
    "df.head()"
   ]
  },
  {
   "cell_type": "code",
   "execution_count": 2,
   "metadata": {},
   "outputs": [],
   "source": [
    "from matplotlib import pyplot as plt\n",
    "import seaborn as sns"
   ]
  },
  {
   "cell_type": "markdown",
   "metadata": {},
   "source": [
    "## Geolocation "
   ]
  },
  {
   "cell_type": "markdown",
   "metadata": {},
   "source": [
    "### Get coordinates of places indicated in the data "
   ]
  },
  {
   "cell_type": "code",
   "execution_count": 3,
   "metadata": {},
   "outputs": [
    {
     "name": "stdout",
     "output_type": "stream",
     "text": [
      "Collecting geopy\n",
      "  Downloading geopy-2.2.0-py3-none-any.whl (118 kB)\n",
      "Collecting geographiclib<2,>=1.49\n",
      "  Downloading geographiclib-1.52-py3-none-any.whl (38 kB)\n",
      "Installing collected packages: geographiclib, geopy\n",
      "Successfully installed geographiclib-1.52 geopy-2.2.0\n"
     ]
    }
   ],
   "source": [
    "!pip install geopy --user"
   ]
  },
  {
   "cell_type": "code",
   "execution_count": 4,
   "metadata": {},
   "outputs": [],
   "source": [
    "from geopy.geocoders import Nominatim"
   ]
  },
  {
   "cell_type": "code",
   "execution_count": 5,
   "metadata": {},
   "outputs": [
    {
     "name": "stdout",
     "output_type": "stream",
     "text": [
      "(48.84468875, 2.3425887000500616)\n"
     ]
    }
   ],
   "source": [
    "geocoder = Nominatim(user_agent=\"datacrafting_exploTweets\")\n",
    "adresse = \"191 rue Saint-Jacques, Paris, France\"\n",
    "location = geocoder.geocode(adresse)\n",
    "print((location.latitude, location.longitude))"
   ]
  },
  {
   "cell_type": "code",
   "execution_count": 6,
   "metadata": {},
   "outputs": [
    {
     "data": {
      "text/plain": [
       "0    NaN\n",
       "1    NaN\n",
       "2    NaN\n",
       "3    NaN\n",
       "4    NaN\n",
       "Name: place_name, dtype: object"
      ]
     },
     "execution_count": 6,
     "metadata": {},
     "output_type": "execute_result"
    }
   ],
   "source": [
    "df.place_name.head()"
   ]
  },
  {
   "cell_type": "code",
   "execution_count": 7,
   "metadata": {},
   "outputs": [
    {
     "name": "stderr",
     "output_type": "stream",
     "text": [
      "106it [00:52,  2.01it/s]\n"
     ]
    }
   ],
   "source": [
    "from tqdm import tqdm # df_media.media_url.value_counts()[df_media.media_url.value_counts()>1]\n",
    "geocoder = Nominatim(user_agent=\"datacrafting_exploTweets\")\n",
    "coding_place = dict()\n",
    "for place, count in tqdm(df.place_name.value_counts()[df.place_name.value_counts()>1].iteritems()):\n",
    "    loc = geocoder.geocode(place)\n",
    "    coding_place[place] = loc"
   ]
  },
  {
   "cell_type": "code",
   "execution_count": 10,
   "metadata": {},
   "outputs": [
    {
     "data": {
      "text/plain": [
       "{'Magog': Location(Magog, Memphrémagog, Estrie, Québec, Canada, (45.265463, -72.147903, 0.0)),\n",
       " 'Paris': Location(Paris, France métropolitaine, 75044, France, (48.8566969, 2.3514616, 0.0)),\n",
       " 'Lyon': Location(Lyon, Métropole de Lyon, Circonscription départementale du Rhône, Auvergne-Rhône-Alpes, France métropolitaine, France, (45.7578137, 4.8320114, 0.0)),\n",
       " 'Andilly': Location(Andilly, Toul, Meurthe-et-Moselle, Grand Est, France métropolitaine, 54200, France, (48.7662318, 5.881351, 0.0)),\n",
       " 'Saint-Vallier-de-Thiey': Location(Saint-Vallier-de-Thiey, Grasse, Alpes-Maritimes, Provence-Alpes-Côte d'Azur, France métropolitaine, 06460, France, (43.6987023, 6.8478583, 0.0)),\n",
       " 'Ajaccio': Location(Ajaccio, Corse-du-Sud, Corse, France métropolitaine, France, (41.9263991, 8.7376029, 0.0)),\n",
       " 'Antibes': Location(Antibes, Grasse, Alpes-Maritimes, Provence-Alpes-Côte d'Azur, France métropolitaine, France, (43.5836, 7.10905, 0.0)),\n",
       " 'Agen': Location(Agen, Lot-et-Garonne, Nouvelle-Aquitaine, France métropolitaine, 47000, France, (44.2015827, 0.6176112, 0.0)),\n",
       " 'Québec': Location(Québec, Canada, (52.4760892, -71.8258668, 0.0)),\n",
       " 'Montréal': Location(Montréal, Agglomération de Montréal, Montréal (06), Québec, Canada, (45.5031824, -73.5698065, 0.0)),\n",
       " 'Versailles': Location(Versailles, Yvelines, France métropolitaine, 78000, France, (48.8035403, 2.1266886, 0.0)),\n",
       " 'Toulouse': Location(Toulouse, Haute-Garonne, Occitanie, France métropolitaine, France, (43.6044622, 1.4442469, 0.0)),\n",
       " 'Marseille': Location(Marseille, Bouches-du-Rhône, Provence-Alpes-Côte d'Azur, France métropolitaine, 13000, France, (43.2961743, 5.3699525, 0.0)),\n",
       " 'Mérignac': Location(Mérignac, Bordeaux, Nouvelle-Aquitaine, France métropolitaine, 33700, France, (44.8422361, -0.6469599, 0.0)),\n",
       " 'Taden': Location(Taden, Dinan, Côtes-d'Armor, Bretagne, France métropolitaine, 22100, France, (48.4751525, -2.0165093, 0.0)),\n",
       " 'Nantes': Location(Nantes, Loire-Atlantique, Pays de la Loire, France métropolitaine, France, (47.2186371, -1.5541362, 0.0)),\n",
       " 'Saint-Jérôme': Location(Saint-Jérôme, La Rivière-du-Nord, Laurentides, Québec, Canada, (45.775426, -74.013176, 0.0)),\n",
       " 'Toulon': Location(Toulon, Var, Provence-Alpes-Côte d'Azur, France métropolitaine, 83800, France, (43.1257311, 5.9304919, 0.0)),\n",
       " 'Montfleur': Location(Montfleur, Lons-le-Saunier, Jura, Bourgogne-Franche-Comté, France métropolitaine, 39320, France, (46.3296555, 5.4368772, 0.0)),\n",
       " 'Rouen': Location(Rouen, Seine-Maritime, Normandie, France métropolitaine, France, (49.4404591, 1.0939658, 0.0)),\n",
       " 'Brest': Location(Brest, Finistère, Bretagne, France métropolitaine, 29200, France, (48.3905283, -4.4860088, 0.0)),\n",
       " 'Colombes': Location(Colombes, Arrondissement de Nanterre, Hauts-de-Seine, France métropolitaine, 92700, France, (48.922788, 2.2543577, 0.0)),\n",
       " 'La Chapelle-des-Fougeretz': Location(La Chapelle-des-Fougeretz, Rennes, Ille-et-Vilaine, Bretagne, France métropolitaine, 35520, France, (48.178029, -1.7341152, 0.0)),\n",
       " 'Montreuil': Location(Montreuil, Pas-de-Calais, Hauts-de-France, France métropolitaine, 62170, France, (50.4638918, 1.7631125, 0.0)),\n",
       " 'Camiers': Location(Camiers, Montreuil, Pas-de-Calais, Hauts-de-France, France métropolitaine, 62176, France, (50.5638, 1.61441, 0.0)),\n",
       " 'Villefranche-sur-Saône': Location(Villefranche-sur-Saône, Rhône, Circonscription départementale du Rhône, Auvergne-Rhône-Alpes, France métropolitaine, 69400, France, (45.9864749, 4.726611, 0.0)),\n",
       " 'Pessac': Location(Pessac, Bordeaux, Gironde, Nouvelle-Aquitaine, France métropolitaine, 33600, France, (44.805615, -0.6308396, 0.0)),\n",
       " 'Albufeira': Location(Albufeira, Faro, Portugal, (37.144524000000004, -8.214588148218034, 0.0)),\n",
       " 'Périgny': Location(Périgny, Vire, Calvados, Normandie, France métropolitaine, 14770, France, (48.9226051, -0.6053427, 0.0)),\n",
       " 'Rezé': Location(Rezé, Nantes, Loire-Atlantique, Pays de la Loire, France métropolitaine, 44400, France, (47.1905456, -1.5695287, 0.0)),\n",
       " 'Bois-Colombes': Location(Bois-Colombes, Arrondissement de Nanterre, Hauts-de-Seine, France métropolitaine, 92270, France, (48.9148269, 2.2674892, 0.0)),\n",
       " 'Strasbourg': Location(Strasbourg, Bas-Rhin, Grand Est, France métropolitaine, France, (48.584614, 7.7507127, 0.0)),\n",
       " 'Pierrefeu-du-Var': Location(Pierrefeu-du-Var, Toulon, Var, Provence-Alpes-Côte d'Azur, France métropolitaine, 83390, France, (43.2272615, 6.14307, 0.0)),\n",
       " 'Nice': Location(Nice, Alpes-Maritimes, Provence-Alpes-Côte d'Azur, France métropolitaine, France, (43.7009358, 7.2683912, 0.0)),\n",
       " 'Ermont': Location(Ermont, Argenteuil, Val-d'Oise, France métropolitaine, 95120, France, (48.9917676, 2.2585679, 0.0)),\n",
       " 'Nanterre': Location(Nanterre, Arrondissement de Nanterre, Hauts-de-Seine, France métropolitaine, 92000, France, (48.8924273, 2.2071267, 0.0)),\n",
       " 'Chibougamau': Location(Chibougamau, ᐄᔨᔨᐤ ᐊᔅᒌ ᒉᐃᒥᔅ ᐯᐃ Eeyou Istchee Baie-James, Jamésie, Nord-du-Québec, Québec, G8P 2X9, Canada, (49.9137407, -74.3713954, 0.0)),\n",
       " 'Carcassonne': Location(Carcassonne, Aude, Occitanie, France métropolitaine, 11000, France, (43.2130358, 2.3491069, 0.0)),\n",
       " 'Montpellier': Location(Montpellier, Hérault, Occitanie, France métropolitaine, France, (43.6112422, 3.8767337, 0.0)),\n",
       " 'Amiens': Location(Amiens, Somme, Hauts-de-France, France métropolitaine, France, (49.8941708, 2.2956951, 0.0)),\n",
       " 'Senegal': Location(Sénégal, (14.4750607, -14.4529612, 0.0)),\n",
       " 'Caluire-et-Cuire': Location(Caluire-et-Cuire, Lyon, Métropole de Lyon, Circonscription départementale du Rhône, Auvergne-Rhône-Alpes, France métropolitaine, 69300, France, (45.7969952, 4.8423304, 0.0)),\n",
       " 'Velaux': Location(Velaux, Aix-en-Provence, Bouches-du-Rhône, Provence-Alpes-Côte d'Azur, France métropolitaine, 13880, France, (43.5217717, 5.2540649, 0.0)),\n",
       " 'Lille': Location(Lille, Nord, Hauts-de-France, France métropolitaine, France, (50.6365654, 3.0635282, 0.0)),\n",
       " 'Ivory Coast': Location(Côte d’Ivoire, (7.9897371, -5.5679458, 0.0)),\n",
       " 'Dijon': Location(Dijon, Côte-d'Or, Bourgogne-Franche-Comté, France métropolitaine, 21000, France, (47.3215806, 5.0414701, 0.0)),\n",
       " 'Bordeaux': Location(Bordeaux, Gironde, Nouvelle-Aquitaine, France métropolitaine, France, (44.841225, -0.5800364, 0.0)),\n",
       " 'Renens (VD)': Location(Renens, District de l'Ouest lausannois, Vaud, 1020, Schweiz/Suisse/Svizzera/Svizra, (46.5349093, 6.5928442, 0.0)),\n",
       " 'Tourville': Location(Tourville, L'Islet, Chaudière-Appalaches, Québec, Canada, (47.0950056, -69.9849097, 0.0)),\n",
       " 'Osny': Location(Osny, Pontoise, Val-d'Oise, France métropolitaine, 95520, France, (49.0660487, 2.0614598, 0.0)),\n",
       " 'The Hague': Location(Den Haag, Zuid-Holland, Nederland, (52.0799838, 4.3113461, 0.0)),\n",
       " 'Martinique': Location(Martinique, France, (14.6367927, -61.01582685063731, 0.0)),\n",
       " 'Bayonne': Location(Bayonne, Pyrénées-Atlantiques, Nouvelle-Aquitaine, France métropolitaine, 64100, France, (43.4933379, -1.475099, 0.0)),\n",
       " 'Perpignan': Location(Perpignan, Pyrénées-Orientales, Occitanie, France métropolitaine, France, (42.6985304, 2.8953121, 0.0)),\n",
       " 'Issy-les-Moulineaux': Location(Issy-les-Moulineaux, Boulogne-Billancourt, Hauts-de-Seine, France métropolitaine, 92130, France, (48.8250508, 2.273457, 0.0)),\n",
       " 'Hendaye': Location(Hendaye, Bayonne, Pyrénées-Atlantiques, Nouvelle-Aquitaine, France métropolitaine, 64700, France, (43.3641518, -1.7616499, 0.0)),\n",
       " 'Lambeth': Location(Lambeth, London Borough of Lambeth, London, Greater London, England, SE1 7GE, United Kingdom, (51.5013012, -0.117287, 0.0)),\n",
       " 'Le Mans': Location(Le Mans, Sarthe, Pays de la Loire, France métropolitaine, France, (48.0073849, 0.1967849, 0.0)),\n",
       " 'Charleville-Mézières': Location(Charleville-Mézières, Ardennes, Grand Est, France métropolitaine, 08000, France, (49.7735712, 4.7206939, 0.0)),\n",
       " 'Ceyreste': Location(Ceyreste, Marseille, Bouches-du-Rhône, Provence-Alpes-Côte d'Azur, France métropolitaine, 13600, France, (43.2183769, 5.6391975, 0.0)),\n",
       " 'Entraigues-sur-la-Sorgue': Location(Entraigues-sur-la-Sorgue, Avignon, Vaucluse, Provence-Alpes-Côte d'Azur, France métropolitaine, 84320, France, (44.0023187, 4.9272616, 0.0)),\n",
       " 'Gueux': Location(Gueux, Reims, Marne, Grand Est, France métropolitaine, 51390, France, (49.2511954, 3.9102946, 0.0)),\n",
       " 'Manhattan': Location(Manhattan, New York County, New York, United States, (40.7896239, -73.9598939, 0.0)),\n",
       " 'Walthamstow': Location(Walthamstow, Greater London, England, E17 3AL, United Kingdom, (51.5844701, -0.0188186, 0.0)),\n",
       " 'Liege': Location(Liège, Wallonie, 4000, België / Belgique / Belgien, (50.6451381, 5.5734203, 0.0)),\n",
       " 'Sherbrooke': Location(Sherbrooke, Estrie, Québec, Canada, (45.403271, -71.889038, 0.0)),\n",
       " 'Carmaux': Location(Carmaux, Albi, Tarn, Occitanie, France métropolitaine, 81400, France, (44.0496296, 2.1583033, 0.0)),\n",
       " 'Levallois-Perret': Location(Levallois-Perret, Arrondissement de Nanterre, Hauts-de-Seine, France métropolitaine, 92300, France, (48.892956, 2.2881683, 0.0)),\n",
       " 'Angers': Location(Angers, Maine-et-Loire, Pays de la Loire, France métropolitaine, France, (47.4739884, -0.5515588, 0.0)),\n",
       " 'Longpont-sur-Orge': Location(Longpont-sur-Orge, Palaiseau, Essonne, France métropolitaine, 91310, France, (48.6388965, 2.289861342425505, 0.0)),\n",
       " 'Libourne': Location(Libourne, Nouvelle-Aquitaine, France métropolitaine, 33500, France, (44.9133742, -0.2427217, 0.0)),\n",
       " 'Serres': Location(Serres, Lunéville, Meurthe-et-Moselle, Grand Est, France métropolitaine, 54370, France, (48.6911344, 6.4642569, 0.0)),\n",
       " 'Launaguet': Location(Launaguet, Toulouse, Haute-Garonne, Occitanie, France métropolitaine, 31140, France, (43.6757142, 1.4544605, 0.0)),\n",
       " 'Aywaille': Location(Aywaille, Liège, Wallonie, 4920, België / Belgique / Belgien, (50.4758998, 5.6763249, 0.0)),\n",
       " 'Saint-Sauveur': Location(Saint-Sauveur, Dijon, Côte-d'Or, Bourgogne-Franche-Comté, France métropolitaine, 21270, France, (47.35727, 5.41413, 0.0)),\n",
       " 'Aix-en-Provence': Location(Aix-en-Provence, Bouches-du-Rhône, Provence-Alpes-Côte d'Azur, France métropolitaine, France, (43.5298424, 5.4474738, 0.0)),\n",
       " 'Saubrigues': Location(Saubrigues, Arrondissement de Dax, Landes, Nouvelle-Aquitaine, France métropolitaine, 40230, France, (43.6107113, -1.3146095, 0.0)),\n",
       " 'New Bedford': Location(New Bedford, Bristol County, Massachusetts, United States, (41.6362152, -70.934205, 0.0)),\n",
       " \"Les Sables-d'Olonne\": Location(Les Sables-d'Olonne, Vendée, Pays de la Loire, France métropolitaine, 85100, France, (46.4990505, -1.7767859, 0.0)),\n",
       " 'Flobecq': Location(Flobecq, Ath, Hainaut, Wallonie, 7880, België / Belgique / Belgien, (50.755499900000004, 3.73132379655172, 0.0)),\n",
       " 'Valenciennes': Location(Valenciennes, Nord, Hauts-de-France, France métropolitaine, 59300, France, (50.3579317, 3.5234846, 0.0)),\n",
       " 'Saint Barthélemy': Location(Saint-Barthélemy, 97133, France, (17.9036287, -62.811568843006896, 0.0)),\n",
       " 'Berlin': Location(Berlin, 10117, Deutschland, (52.5170365, 13.3888599, 0.0)),\n",
       " 'Grenade': Location(Grenada, (12.1360374, -61.6904045, 0.0)),\n",
       " 'Mont-Royal': Location(Mont-Royal, Montréal, Agglomération de Montréal, Montréal (06), Québec, H3A 2B7, Canada, (45.5086157, -73.5903112, 0.0)),\n",
       " 'Couëron': Location(Couëron, Nantes, Loire-Atlantique, Pays de la Loire, France métropolitaine, 44220, France, (47.2115054, -1.7271466, 0.0)),\n",
       " 'Mirabel-aux-Baronnies': Location(Mirabel-aux-Baronnies, Nyons, Drôme, Auvergne-Rhône-Alpes, France métropolitaine, 26110, France, (44.3109, 5.09817, 0.0)),\n",
       " 'Nouvelle-Eglise': Location(Nouvelle-Église, Calais, Pas-de-Calais, Hauts-de-France, France métropolitaine, 62370, France, (50.9249543, 2.0537252, 0.0)),\n",
       " 'Saint-Etienne': Location(Saint-Étienne, Loire, Auvergne-Rhône-Alpes, France métropolitaine, France, (45.4401467, 4.3873058, 0.0)),\n",
       " 'Salon-de-Provence': Location(Salon-de-Provence, Aix-en-Provence, Bouches-du-Rhône, Provence-Alpes-Côte d'Azur, France métropolitaine, 13300, France, (43.6405237, 5.0980225, 0.0)),\n",
       " 'Clermont-Ferrand': Location(Clermont-Ferrand, Puy-de-Dôme, Auvergne-Rhône-Alpes, France métropolitaine, France, (45.7774551, 3.0819427, 0.0)),\n",
       " 'Rosny-sous-Bois': Location(Rosny-sous-Bois, Le Raincy, Seine-Saint-Denis, France métropolitaine, 93110, France, (48.8716626, 2.4875193, 0.0)),\n",
       " 'Guadeloupe': Location(Guadeloupe, France, (16.230510250000002, -61.68712602138846, 0.0)),\n",
       " 'Rueil-Malmaison': Location(Rueil-Malmaison, Arrondissement de Nanterre, Hauts-de-Seine, France métropolitaine, 92500, France, (48.87778, 2.1802832, 0.0)),\n",
       " 'Les Choux': Location(Les Choux, Montargis, Loiret, Centre-Val de Loire, France métropolitaine, 45290, France, (47.796965, 2.6758426, 0.0)),\n",
       " 'Democratic Republic of Congo': Location(République démocratique du Congo, (-2.9814344, 23.8222636, 0.0)),\n",
       " 'Rimouski': Location(Rimouski, Rimouski-Neigette, Bas-Saint-Laurent, Québec, Canada, (48.450155, -68.529968, 0.0)),\n",
       " 'Ezanville': Location(Ézanville, Sarcelles, Val-d'Oise, France métropolitaine, 95460, France, (49.038063199999996, 2.3581716846825667, 0.0)),\n",
       " 'Ivry-sur-Seine': Location(Ivry-sur-Seine, Arrondissement de L'Haÿ-les-Roses, Val-de-Marne, France métropolitaine, 94200, France, (48.8122302, 2.3872525, 0.0)),\n",
       " 'Luxembourg': Location(Lëtzebuerg, (49.8158683, 6.1296751, 0.0)),\n",
       " 'Saint-Grégoire': Location(Saint-Grégoire, Rennes, Ille-et-Vilaine, Bretagne, France métropolitaine, 35760, France, (48.1524129, -1.685398, 0.0)),\n",
       " 'Amanlis': Location(Amanlis, Fougères-Vitré, Ille-et-Vilaine, Bretagne, France métropolitaine, 35150, France, (48.0061864, -1.4764193, 0.0)),\n",
       " 'Plaisance-du-Touch': Location(Plaisance-du-Touch, Toulouse, Haute-Garonne, Occitanie, France métropolitaine, 31830, France, (43.5653012, 1.2978343, 0.0)),\n",
       " 'Brussels': Location(Bruxelles - Brussel, Ville de Bruxelles - Stad Brussel, Brussel-Hoofdstad - Bruxelles-Capitale, Région de Bruxelles-Capitale - Brussels Hoofdstedelijk Gewest, 1000, België / Belgique / Belgien, (50.8465573, 4.351697, 0.0)),\n",
       " 'Alexandria': Location(الإسكندرية, محافظة الإسكندرية, 21519, مصر, (31.199004, 29.894378, 0.0)),\n",
       " 'Laval': Location(Laval, Mayenne, Pays de la Loire, France métropolitaine, 53000, France, (48.0706687, -0.7734022, 0.0))}"
      ]
     },
     "execution_count": 10,
     "metadata": {},
     "output_type": "execute_result"
    }
   ],
   "source": [
    "coding_place"
   ]
  },
  {
   "cell_type": "code",
   "execution_count": 11,
   "metadata": {},
   "outputs": [],
   "source": [
    "def transfoPlaceGps(strPlace):\n",
    "    if strPlace in coding_place:\n",
    "        return (coding_place.get(strPlace).longitude, coding_place.get(strPlace).latitude) \n",
    "    else:\n",
    "        return None\n",
    "\n",
    "# df[\"position_gps\"] = df.place_name.apply(lambda x: if not pd.isna(x) else None)"
   ]
  },
  {
   "cell_type": "code",
   "execution_count": 12,
   "metadata": {},
   "outputs": [],
   "source": [
    "df[\"position_gps\"] = df.place_name.apply(lambda x: transfoPlaceGps(x))"
   ]
  },
  {
   "cell_type": "code",
   "execution_count": 16,
   "metadata": {},
   "outputs": [
    {
     "data": {
      "text/plain": [
       "(-72.147903, 45.265463)     144\n",
       "(2.3514616, 48.8566969)     127\n",
       "(4.8320114, 45.7578137)      60\n",
       "(5.881351, 48.7662318)       41\n",
       "(6.8478583, 43.6987023)      18\n",
       "                           ... \n",
       "(-1.4764193, 48.0061864)      2\n",
       "(4.351697, 50.8465573)        2\n",
       "(1.4544605, 43.6757142)       2\n",
       "(6.1296751, 49.8158683)       2\n",
       "(5.5734203, 50.6451381)       2\n",
       "Name: position_gps, Length: 106, dtype: int64"
      ]
     },
     "execution_count": 16,
     "metadata": {},
     "output_type": "execute_result"
    }
   ],
   "source": [
    "df[\"position_gps\"].value_counts()"
   ]
  },
  {
   "cell_type": "code",
   "execution_count": 19,
   "metadata": {},
   "outputs": [],
   "source": [
    "df = df[[\"status_id\",\"position_gps\"]]\n",
    "df.to_excel(\"datacraft_data_vaccination_w_geolocation.xlsx\")"
   ]
  },
  {
   "cell_type": "markdown",
   "metadata": {},
   "source": [
    "### Plot coordinates "
   ]
  },
  {
   "cell_type": "code",
   "execution_count": null,
   "metadata": {},
   "outputs": [],
   "source": [
    "from matplotlib import pyplot as plt\n",
    "\n",
    "from bokeh.models import GeoJSONDataSource\n",
    "from bokeh.plotting import figure, show, output_notebook\n",
    "import geopandas as gp\n",
    "\n",
    "import bokeh.io\n",
    "\n",
    "bokeh.io.reset_output()\n",
    "bokeh.io.output_notebook()\n",
    "#output_notebook()\n",
    "\n",
    "## tiles, worldmap\n",
    "world = gp.read_file(gp.datasets.get_path('naturalearth_lowres'))\n",
    "geo_source = GeoJSONDataSource(geojson=world.to_json())\n",
    "\n",
    "## setting up the figure\n",
    "p = figure(title='World', tooltips=[('Country', '@name')],\n",
    "           x_range=(-180, 180), y_range=(-90, 90), \n",
    "           x_axis_location=None, y_axis_location=None,\n",
    "           plot_width=900, plot_height=500\n",
    "          )\n",
    "p.patches('xs', 'ys', fill_alpha=0.4, fill_color='grey', \n",
    "          line_color='black', line_width=0.5, source=geo_source\n",
    "         )\n",
    "\n",
    "## the graph: edgelist and node_positions\n",
    "# edge_list = [(1,2), (1,5), (2,3), (2,4), (3,4)]\n",
    "# pos = {1:(2, 47), \n",
    "#       2: (-75, 42),\n",
    "#       3:(-117, 34),\n",
    "#       4:(-122, 49),\n",
    "#       5:(25, -28)}\n",
    "\n",
    "# Now group these values together into a lists of x (longitude) and y (latitude)\n",
    "x = [position.longitude for position in coding_place.values()]\n",
    "y = [position.latitude for position in coding_place.values()]\n",
    "\n",
    "#draw_edges:\n",
    "# for e in edge_list:\n",
    "#     p.line([pos[e[0]][0], pos[e[1]][0]], [pos[e[0]][1], pos[e[1]][1]], line_width=2)\n",
    "\n",
    "# The scattered Node markers\n",
    "p.circle(x, y, size=8, color='navy', alpha=1)\n",
    "\n",
    "show(p)"
   ]
  },
  {
   "cell_type": "markdown",
   "metadata": {},
   "source": [
    "## Community detection"
   ]
  },
  {
   "cell_type": "code",
   "execution_count": null,
   "metadata": {},
   "outputs": [],
   "source": [
    "import networkx as nx\n",
    "import community"
   ]
  },
  {
   "cell_type": "markdown",
   "metadata": {},
   "source": [
    "### Create network"
   ]
  },
  {
   "cell_type": "markdown",
   "metadata": {},
   "source": [
    "#### Avec une fonction"
   ]
  },
  {
   "cell_type": "code",
   "execution_count": null,
   "metadata": {},
   "outputs": [],
   "source": [
    "def compute_cluster(df):\n",
    "    \"\"\"\n",
    "    df: DataFrame with at least columns ['pseudo', 'retweeted_screen_name', 'tweet_date']\n",
    "    \n",
    "    \"\"\"\n",
    "    print('Build graph...')\n",
    "    G = nx.DiGraph()\n",
    "    df_for_graph = df[df.retweeted_screen_name.notna()][[\"pseudo\", \"retweeted_screen_name\", \"tweet_date\"]]\n",
    "    for i, j in df[df.retweeted_screen_name.notna()][[\"pseudo\", \"retweeted_screen_name\", \"tweet_date\"]].iterrows():\n",
    "        G.add_edge(j.pseudo, j.retweeted_screen_name, date=j.tweet_date)\n",
    "    \n",
    "    print('Find clusters...')\n",
    "    Gc = nx.subgraph(G, max(nx.connected_components(nx.Graph(G)), key=len))\n",
    "    comms = community.best_partition(nx.Graph(Gc))\n",
    "    \n",
    "    clust = []\n",
    "    for i, pseudo in enumerate(df['pseudo']):\n",
    "        if pseudo in comms.keys():\n",
    "            clust.append(comms[pseudo])\n",
    "        else:\n",
    "            clust.append(-1)       # -1 if the node of the pseudo is not in the giant connected component\n",
    "    \n",
    "    df['cluster'] = clust"
   ]
  },
  {
   "cell_type": "code",
   "execution_count": null,
   "metadata": {},
   "outputs": [],
   "source": [
    "df['cluster']"
   ]
  },
  {
   "cell_type": "markdown",
   "metadata": {},
   "source": [
    "#### Sans fonction"
   ]
  },
  {
   "cell_type": "code",
   "execution_count": null,
   "metadata": {},
   "outputs": [],
   "source": [
    "G = nx.DiGraph()\n",
    "for i, j in df[df.retweeted_screen_name.notna()][[\"pseudo\", \"retweeted_screen_name\", \"tweet_date\"]].iterrows():\n",
    "    G.add_edge(j.pseudo, j.retweeted_screen_name, date=j.tweet_date)"
   ]
  },
  {
   "cell_type": "code",
   "execution_count": null,
   "metadata": {},
   "outputs": [],
   "source": [
    "G.number_of_nodes(), G.number_of_edges()"
   ]
  },
  {
   "cell_type": "code",
   "execution_count": null,
   "metadata": {},
   "outputs": [],
   "source": [
    "Gc = nx.subgraph(G, max(nx.connected_components(nx.Graph(G)), key=len))"
   ]
  },
  {
   "cell_type": "code",
   "execution_count": null,
   "metadata": {},
   "outputs": [],
   "source": [
    "Gc.number_of_nodes(), Gc.number_of_edges()"
   ]
  },
  {
   "cell_type": "markdown",
   "metadata": {},
   "source": [
    "Identify communities"
   ]
  },
  {
   "cell_type": "code",
   "execution_count": null,
   "metadata": {},
   "outputs": [],
   "source": [
    "comms = community.best_partition(nx.Graph(Gc))"
   ]
  },
  {
   "cell_type": "code",
   "execution_count": null,
   "metadata": {},
   "outputs": [],
   "source": [
    "result_communautes = dict()\n",
    "for k in comms.keys():\n",
    "    if comms[k] in result_communautes:\n",
    "        result_communautes[comms[k]].append(k)\n",
    "    else:\n",
    "        result_communautes[comms[k]] = [k]"
   ]
  },
  {
   "cell_type": "code",
   "execution_count": null,
   "metadata": {},
   "outputs": [],
   "source": [
    "for i in range(40):\n",
    "    print(i, len(result_communautes[i]))"
   ]
  },
  {
   "cell_type": "code",
   "execution_count": null,
   "metadata": {},
   "outputs": [],
   "source": [
    "## Store the results: \n",
    "import json\n",
    "f = open(\"communautes_composante_principale.json\",\"w\")\n",
    "json.dump(comms, f)\n",
    "f.close()"
   ]
  },
  {
   "cell_type": "code",
   "execution_count": null,
   "metadata": {},
   "outputs": [],
   "source": [
    "# Load the results: \n",
    "import json\n",
    "f = open(\"communautes_composante_principale.json\",\"r\")\n",
    "comms = json.load(f)\n",
    "f.close()"
   ]
  },
  {
   "cell_type": "code",
   "execution_count": null,
   "metadata": {},
   "outputs": [],
   "source": [
    "#Get community of a user : \n",
    "comms[\"martineroy1959\"]"
   ]
  },
  {
   "cell_type": "code",
   "execution_count": null,
   "metadata": {},
   "outputs": [],
   "source": [
    "#Get user from community :\n",
    "df[df.pseudo.isin(result_communautes[4]) & df.retweeted_screen_name.isna() & df.place_name.notna()][[\"pseudo\", \"tweet\", \"tweet_date\", \"place_name\"]]"
   ]
  },
  {
   "cell_type": "markdown",
   "metadata": {},
   "source": [
    "### Geolocation of communities "
   ]
  },
  {
   "cell_type": "code",
   "execution_count": null,
   "metadata": {},
   "outputs": [],
   "source": [
    "from matplotlib import pyplot as plt\n",
    "\n",
    "from bokeh.models import GeoJSONDataSource\n",
    "from bokeh.plotting import figure, show, output_notebook\n",
    "import geopandas as gp\n",
    "\n",
    "import bokeh.io\n",
    "\n",
    "\n",
    "def geoPlotGroup(groupID):\n",
    "    bokeh.io.reset_output()\n",
    "    bokeh.io.output_notebook()\n",
    "    #output_notebook()\n",
    "\n",
    "    ## tiles, worldmap\n",
    "    world = gp.read_file(gp.datasets.get_path('naturalearth_lowres'))\n",
    "    geo_source = GeoJSONDataSource(geojson=world.to_json())\n",
    "\n",
    "    ## setting up the figure\n",
    "    p = figure(title='World', tooltips=[('Country', '@name')],\n",
    "               x_range=(-180, 180), y_range=(-90, 90), \n",
    "               x_axis_location=None, y_axis_location=None,\n",
    "               plot_width=900, plot_height=500\n",
    "              )\n",
    "    p.patches('xs', 'ys', fill_alpha=0.4, fill_color='grey', \n",
    "              line_color='black', line_width=0.5, source=geo_source\n",
    "             )\n",
    "\n",
    "    # Now group these values together into a lists of x (longitude) and y (latitude)\n",
    "    temp_df = df[df.pseudo.isin(result_communautes[groupID]) & df.place_name.notna()][[\"pseudo\", \"tweet\", \"tweet_date\", \"place_name\", \"position_gps\"]]\n",
    "    \n",
    "    x = [row.position_gps[0] for _,row in temp_df[temp_df.position_gps.notna()].iterrows()]\n",
    "    y = [row.position_gps[1] for _,row in temp_df[temp_df.position_gps.notna()].iterrows()]\n",
    "#     size = []\n",
    "\n",
    "    #draw_edges:\n",
    "    # for e in edge_list:\n",
    "    #     p.line([pos[e[0]][0], pos[e[1]][0]], [pos[e[0]][1], pos[e[1]][1]], line_width=2)\n",
    "\n",
    "    # The scattered Node markers\n",
    "    p.circle(x, y, size=8, color='navy', alpha=1)\n",
    "\n",
    "    show(p)"
   ]
  },
  {
   "cell_type": "code",
   "execution_count": null,
   "metadata": {},
   "outputs": [],
   "source": [
    "# Plot for user 12 : \n",
    "geoPlotGroup(12)"
   ]
  },
  {
   "cell_type": "code",
   "execution_count": null,
   "metadata": {},
   "outputs": [],
   "source": [
    "# Check the users of this cluster :  \n",
    "df[df.pseudo.isin(result_communautes[12]) & df.retweeted_screen_name.isna()][[\"pseudo\", \"tweet\", \"tweet_date\", \"place_name\"]]"
   ]
  },
  {
   "cell_type": "code",
   "execution_count": null,
   "metadata": {},
   "outputs": [],
   "source": [
    "from wordcloud import WordCloud\n",
    "from matplotlib import pyplot as plt\n",
    "from PIL import Image"
   ]
  },
  {
   "cell_type": "code",
   "execution_count": null,
   "metadata": {},
   "outputs": [],
   "source": [
    "#Check out words from this cluster \n",
    "groupID = 12\n",
    "stopW = [\"un\", \"une\", \"le\", \"la\", \"de\", \"des\", \"et\", \"rt\", \"https\", \"co\", \"est\", \"pas\", \"il\", \"elle\"]\n",
    "text = \".\".join(df[df.pseudo.isin(result_communautes[groupID])].tweet_formatted.sample(500))\n",
    "wordcloud = WordCloud(background_color = 'white', stopwords = stopW, max_words = 50).generate(text)\n",
    "plt.imshow(wordcloud)\n",
    "plt.axis(\"off\")\n",
    "plt.show()"
   ]
  }
 ],
 "metadata": {
  "kernelspec": {
   "display_name": "Python 3",
   "language": "python",
   "name": "python3"
  },
  "language_info": {
   "codemirror_mode": {
    "name": "ipython",
    "version": 3
   },
   "file_extension": ".py",
   "mimetype": "text/x-python",
   "name": "python",
   "nbconvert_exporter": "python",
   "pygments_lexer": "ipython3",
   "version": "3.8.3"
  }
 },
 "nbformat": 4,
 "nbformat_minor": 4
}
