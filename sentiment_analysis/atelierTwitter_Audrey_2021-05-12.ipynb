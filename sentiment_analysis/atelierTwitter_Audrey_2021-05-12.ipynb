{
 "cells": [
  {
   "cell_type": "markdown",
   "id": "cfa50cc8",
   "metadata": {},
   "source": [
    "# Imports"
   ]
  },
  {
   "cell_type": "code",
   "execution_count": 196,
   "id": "18a39223",
   "metadata": {},
   "outputs": [],
   "source": [
    "# common packages\n",
    "import numpy as np\n",
    "import pandas as pd\n",
    "import matplotlib.pyplot as plt\n",
    "import seaborn as sns\n",
    "\n",
    "# textblob packages\n",
    "import re\n",
    "from textblob import TextBlob\n",
    "from textblob_fr import PatternTagger, PatternAnalyzer\n",
    "\n",
    "# nlp packages\n",
    "import nltk\n",
    "from nltk.corpus import stopwords\n",
    "from nltk import word_tokenize\n",
    "from nltk.stem import WordNetLemmatizer"
   ]
  },
  {
   "cell_type": "code",
   "execution_count": 76,
   "id": "33d04e78",
   "metadata": {},
   "outputs": [
    {
     "name": "stderr",
     "output_type": "stream",
     "text": [
      "[nltk_data] Downloading package punkt to\n",
      "[nltk_data]     C:\\Users\\AudreyPOINSOT\\AppData\\Roaming\\nltk_data...\n",
      "[nltk_data]   Package punkt is already up-to-date!\n",
      "[nltk_data] Downloading package stopwords to\n",
      "[nltk_data]     C:\\Users\\AudreyPOINSOT\\AppData\\Roaming\\nltk_data...\n",
      "[nltk_data]   Unzipping corpora\\stopwords.zip.\n",
      "[nltk_data] Downloading package wordnet to\n",
      "[nltk_data]     C:\\Users\\AudreyPOINSOT\\AppData\\Roaming\\nltk_data...\n",
      "[nltk_data]   Package wordnet is already up-to-date!\n"
     ]
    },
    {
     "data": {
      "text/plain": [
       "True"
      ]
     },
     "execution_count": 76,
     "metadata": {},
     "output_type": "execute_result"
    }
   ],
   "source": [
    "nltk.download('punkt')\n",
    "SENT_DETECTOR = nltk.data.load('tokenizers/punkt/french.pickle')\n",
    "nltk.download('stopwords')\n",
    "stop_words = set(stopwords.words('french'))\n",
    "nltk.download('wordnet')"
   ]
  },
  {
   "cell_type": "code",
   "execution_count": 17,
   "id": "ee76204d",
   "metadata": {},
   "outputs": [],
   "source": [
    "# data\n",
    "path = 'data/'\n",
    "data_df = pd.read_excel(path + 'datacraft_data_vaccination_5g_2021_05_11.xlsx', sheet_name='Sheet1')"
   ]
  },
  {
   "cell_type": "code",
   "execution_count": 84,
   "id": "75c71fa8",
   "metadata": {},
   "outputs": [],
   "source": [
    "data_df.tweet_date = pd.to_datetime(data_df.tweet_date) # format='YYYY-mm-dd hh:mm:sss'"
   ]
  },
  {
   "cell_type": "code",
   "execution_count": 172,
   "id": "c8d9c245",
   "metadata": {},
   "outputs": [
    {
     "data": {
      "text/plain": [
       "(12393, 17)"
      ]
     },
     "execution_count": 172,
     "metadata": {},
     "output_type": "execute_result"
    }
   ],
   "source": [
    "retweeted_status_id_list = list(data_df['retweeted_status_id'].unique())\n",
    "data_df[data_df['status_id'].isin(retweeted_status_id_list)].shape"
   ]
  },
  {
   "cell_type": "markdown",
   "id": "2d58daca",
   "metadata": {},
   "source": [
    "# I- Exploration"
   ]
  },
  {
   "cell_type": "code",
   "execution_count": 85,
   "id": "b6de068f",
   "metadata": {},
   "outputs": [
    {
     "data": {
      "text/html": [
       "<div>\n",
       "<style scoped>\n",
       "    .dataframe tbody tr th:only-of-type {\n",
       "        vertical-align: middle;\n",
       "    }\n",
       "\n",
       "    .dataframe tbody tr th {\n",
       "        vertical-align: top;\n",
       "    }\n",
       "\n",
       "    .dataframe thead th {\n",
       "        text-align: right;\n",
       "    }\n",
       "</style>\n",
       "<table border=\"1\" class=\"dataframe\">\n",
       "  <thead>\n",
       "    <tr style=\"text-align: right;\">\n",
       "      <th></th>\n",
       "      <th>pseudo</th>\n",
       "      <th>tweet</th>\n",
       "      <th>tweet_date</th>\n",
       "      <th>tweet_mentions</th>\n",
       "      <th>status_id</th>\n",
       "      <th>tweet_formatted</th>\n",
       "      <th>is_rt</th>\n",
       "      <th>retweeted_status_id</th>\n",
       "      <th>retweeted_screen_name</th>\n",
       "      <th>geo_coords</th>\n",
       "      <th>description</th>\n",
       "      <th>followers_count</th>\n",
       "      <th>friends_count</th>\n",
       "      <th>listed_count</th>\n",
       "      <th>statuses_count</th>\n",
       "      <th>favourites_count</th>\n",
       "      <th>account_created_at</th>\n",
       "      <th>tweet_cleaned</th>\n",
       "    </tr>\n",
       "  </thead>\n",
       "  <tbody>\n",
       "    <tr>\n",
       "      <th>0</th>\n",
       "      <td>(Mysteriously Unnamed)</td>\n",
       "      <td>@Cheewyy4 @AiphanMarcel @nonopp4 Quand il t' i...</td>\n",
       "      <td>2020-04-05 20:21:03</td>\n",
       "      <td>Cheewyy4| nonopp4</td>\n",
       "      <td>1246895646730260488</td>\n",
       "      <td>@cheewyy4 @aiphanmarcel @nonopp4 quand il t im...</td>\n",
       "      <td>False</td>\n",
       "      <td>NaN</td>\n",
       "      <td>NaN</td>\n",
       "      <td>NaN</td>\n",
       "      <td>NaN</td>\n",
       "      <td>NaN</td>\n",
       "      <td>NaN</td>\n",
       "      <td>NaN</td>\n",
       "      <td>NaN</td>\n",
       "      <td>NaN</td>\n",
       "      <td>NaT</td>\n",
       "      <td>quand il t imposera son vaccin et sa puce ....</td>\n",
       "    </tr>\n",
       "    <tr>\n",
       "      <th>1</th>\n",
       "      <td>_________adaa</td>\n",
       "      <td>@umut_dkr Je t’explique : dans ce soie disant ...</td>\n",
       "      <td>2020-11-12 15:03:13</td>\n",
       "      <td>umut_dkr</td>\n",
       "      <td>1326903382662127622</td>\n",
       "      <td>@umut_dkr je t explique : dans ce soie disant ...</td>\n",
       "      <td>False</td>\n",
       "      <td>NaN</td>\n",
       "      <td>NaN</td>\n",
       "      <td>NA NA</td>\n",
       "      <td>De passage 🙃</td>\n",
       "      <td>729.0</td>\n",
       "      <td>431.0</td>\n",
       "      <td>0.0</td>\n",
       "      <td>3347.0</td>\n",
       "      <td>4165.0</td>\n",
       "      <td>2020-03-27 17:58:56</td>\n",
       "      <td>je t explique  dans ce soie disant vaccin il y...</td>\n",
       "    </tr>\n",
       "    <tr>\n",
       "      <th>2</th>\n",
       "      <td>______Stan_____</td>\n",
       "      <td>RT @laurentchemla Quelqu'un a déjà réussi à fa...</td>\n",
       "      <td>2021-01-13 14:37:39</td>\n",
       "      <td>laurentchemla</td>\n",
       "      <td>1349364994165633024</td>\n",
       "      <td>rt @laurentchemla quelqu un a deja reussi a fa...</td>\n",
       "      <td>True</td>\n",
       "      <td>1.349346e+18</td>\n",
       "      <td>laurentchemla</td>\n",
       "      <td>NA NA</td>\n",
       "      <td>Dolce Vita à Marseille. \\nDiffuseur de bon pla...</td>\n",
       "      <td>509.0</td>\n",
       "      <td>468.0</td>\n",
       "      <td>22.0</td>\n",
       "      <td>18153.0</td>\n",
       "      <td>11004.0</td>\n",
       "      <td>2014-10-26 13:18:03</td>\n",
       "      <td>rt quelqu un a deja reussi a faire tourner doo...</td>\n",
       "    </tr>\n",
       "    <tr>\n",
       "      <th>3</th>\n",
       "      <td>_____Aurore</td>\n",
       "      <td>RT @Lola__bos POITIERS je suis nounou pour ce ...</td>\n",
       "      <td>2020-10-13 05:07:59</td>\n",
       "      <td>Lola__bos</td>\n",
       "      <td>1315881950004088833</td>\n",
       "      <td>rt @lola__bos poitiers je suis nounou pour ce ...</td>\n",
       "      <td>True</td>\n",
       "      <td>1.315695e+18</td>\n",
       "      <td>Lola__bos</td>\n",
       "      <td>NA NA</td>\n",
       "      <td>twitter is dark and full of spoilers.</td>\n",
       "      <td>475.0</td>\n",
       "      <td>353.0</td>\n",
       "      <td>12.0</td>\n",
       "      <td>66194.0</td>\n",
       "      <td>2097.0</td>\n",
       "      <td>2012-01-07 17:21:43</td>\n",
       "      <td>rt poitiers je suis nounou pour ce potit chat ...</td>\n",
       "    </tr>\n",
       "    <tr>\n",
       "      <th>4</th>\n",
       "      <td>_____ilham</td>\n",
       "      <td>RT @MikeStnm_ Moi quand le gouvernement contrô...</td>\n",
       "      <td>2020-11-13 00:09:38</td>\n",
       "      <td>MikeStnm_</td>\n",
       "      <td>1327040891404611586</td>\n",
       "      <td>rt @mikestnm_ moi quand le gouvernement contro...</td>\n",
       "      <td>True</td>\n",
       "      <td>1.326938e+18</td>\n",
       "      <td>MikeStnm_</td>\n",
       "      <td>NA NA</td>\n",
       "      <td>Open up ur soul show me how its fake</td>\n",
       "      <td>37.0</td>\n",
       "      <td>94.0</td>\n",
       "      <td>0.0</td>\n",
       "      <td>1265.0</td>\n",
       "      <td>1443.0</td>\n",
       "      <td>2016-11-24 19:22:51</td>\n",
       "      <td>rt moi quand le gouvernement controlera mon es...</td>\n",
       "    </tr>\n",
       "  </tbody>\n",
       "</table>\n",
       "</div>"
      ],
      "text/plain": [
       "                   pseudo                                              tweet  \\\n",
       "0  (Mysteriously Unnamed)  @Cheewyy4 @AiphanMarcel @nonopp4 Quand il t' i...   \n",
       "1           _________adaa  @umut_dkr Je t’explique : dans ce soie disant ...   \n",
       "2         ______Stan_____  RT @laurentchemla Quelqu'un a déjà réussi à fa...   \n",
       "3             _____Aurore  RT @Lola__bos POITIERS je suis nounou pour ce ...   \n",
       "4              _____ilham  RT @MikeStnm_ Moi quand le gouvernement contrô...   \n",
       "\n",
       "           tweet_date      tweet_mentions            status_id  \\\n",
       "0 2020-04-05 20:21:03  Cheewyy4| nonopp4   1246895646730260488   \n",
       "1 2020-11-12 15:03:13           umut_dkr   1326903382662127622   \n",
       "2 2021-01-13 14:37:39      laurentchemla   1349364994165633024   \n",
       "3 2020-10-13 05:07:59          Lola__bos   1315881950004088833   \n",
       "4 2020-11-13 00:09:38          MikeStnm_   1327040891404611586   \n",
       "\n",
       "                                     tweet_formatted  is_rt  \\\n",
       "0  @cheewyy4 @aiphanmarcel @nonopp4 quand il t im...  False   \n",
       "1  @umut_dkr je t explique : dans ce soie disant ...  False   \n",
       "2  rt @laurentchemla quelqu un a deja reussi a fa...   True   \n",
       "3  rt @lola__bos poitiers je suis nounou pour ce ...   True   \n",
       "4  rt @mikestnm_ moi quand le gouvernement contro...   True   \n",
       "\n",
       "   retweeted_status_id retweeted_screen_name geo_coords  \\\n",
       "0                  NaN                   NaN        NaN   \n",
       "1                  NaN                   NaN      NA NA   \n",
       "2         1.349346e+18         laurentchemla      NA NA   \n",
       "3         1.315695e+18             Lola__bos      NA NA   \n",
       "4         1.326938e+18             MikeStnm_      NA NA   \n",
       "\n",
       "                                         description  followers_count  \\\n",
       "0                                                NaN              NaN   \n",
       "1                                       De passage 🙃            729.0   \n",
       "2  Dolce Vita à Marseille. \\nDiffuseur de bon pla...            509.0   \n",
       "3              twitter is dark and full of spoilers.            475.0   \n",
       "4               Open up ur soul show me how its fake             37.0   \n",
       "\n",
       "   friends_count  listed_count  statuses_count  favourites_count  \\\n",
       "0            NaN           NaN             NaN               NaN   \n",
       "1          431.0           0.0          3347.0            4165.0   \n",
       "2          468.0          22.0         18153.0           11004.0   \n",
       "3          353.0          12.0         66194.0            2097.0   \n",
       "4           94.0           0.0          1265.0            1443.0   \n",
       "\n",
       "   account_created_at                                      tweet_cleaned  \n",
       "0                 NaT     quand il t imposera son vaccin et sa puce ....  \n",
       "1 2020-03-27 17:58:56  je t explique  dans ce soie disant vaccin il y...  \n",
       "2 2014-10-26 13:18:03  rt quelqu un a deja reussi a faire tourner doo...  \n",
       "3 2012-01-07 17:21:43  rt poitiers je suis nounou pour ce potit chat ...  \n",
       "4 2016-11-24 19:22:51  rt moi quand le gouvernement controlera mon es...  "
      ]
     },
     "execution_count": 85,
     "metadata": {},
     "output_type": "execute_result"
    }
   ],
   "source": [
    "data_df.head()"
   ]
  },
  {
   "cell_type": "code",
   "execution_count": 86,
   "id": "28687fcc",
   "metadata": {},
   "outputs": [
    {
     "name": "stdout",
     "output_type": "stream",
     "text": [
      "<class 'pandas.core.frame.DataFrame'>\n",
      "RangeIndex: 193209 entries, 0 to 193208\n",
      "Data columns (total 18 columns):\n",
      " #   Column                 Non-Null Count   Dtype         \n",
      "---  ------                 --------------   -----         \n",
      " 0   pseudo                 193209 non-null  object        \n",
      " 1   tweet                  193209 non-null  object        \n",
      " 2   tweet_date             193209 non-null  datetime64[ns]\n",
      " 3   tweet_mentions         166889 non-null  object        \n",
      " 4   status_id              193209 non-null  int64         \n",
      " 5   tweet_formatted        193209 non-null  object        \n",
      " 6   is_rt                  193209 non-null  bool          \n",
      " 7   retweeted_status_id    124297 non-null  float64       \n",
      " 8   retweeted_screen_name  123277 non-null  object        \n",
      " 9   geo_coords             185107 non-null  object        \n",
      " 10  description            133987 non-null  object        \n",
      " 11  followers_count        185107 non-null  float64       \n",
      " 12  friends_count          185107 non-null  float64       \n",
      " 13  listed_count           185107 non-null  float64       \n",
      " 14  statuses_count         185107 non-null  float64       \n",
      " 15  favourites_count       185107 non-null  float64       \n",
      " 16  account_created_at     185107 non-null  datetime64[ns]\n",
      " 17  tweet_cleaned          193209 non-null  object        \n",
      "dtypes: bool(1), datetime64[ns](2), float64(6), int64(1), object(8)\n",
      "memory usage: 25.2+ MB\n"
     ]
    }
   ],
   "source": [
    "data_df.info()"
   ]
  },
  {
   "cell_type": "code",
   "execution_count": 87,
   "id": "2606c28a",
   "metadata": {},
   "outputs": [],
   "source": [
    "columns_to_keep = ['pseudo',\n",
    "                   'tweet_date',\n",
    "                   'tweet_mentions',\n",
    "                   'status_id',\n",
    "                   'tweet_formatted',\n",
    "                   'is_rt',\n",
    "                   'retweeted_status_id',\n",
    "                   'retweeted_screen_name',\n",
    "                   'geo_coords',\n",
    "                   'description',\n",
    "                   'followers_count',\n",
    "                   'friends_count',\n",
    "                   'listed_count',\n",
    "                   'statuses_count',\n",
    "                   'favourites_count',\n",
    "                   'account_created_at']\n",
    "\n",
    "data_df = data_df[columns_to_keep]"
   ]
  },
  {
   "cell_type": "markdown",
   "id": "37501832",
   "metadata": {},
   "source": [
    "# II- Sentiment analysis"
   ]
  },
  {
   "cell_type": "markdown",
   "id": "e5aee49c",
   "metadata": {},
   "source": [
    "## II-1- Textblob"
   ]
  },
  {
   "cell_type": "markdown",
   "id": "4852d9a9",
   "metadata": {},
   "source": [
    "### II-1-a- test de la librairie"
   ]
  },
  {
   "cell_type": "code",
   "execution_count": 88,
   "id": "d1c25c71",
   "metadata": {},
   "outputs": [
    {
     "data": {
      "text/plain": [
       "(0.38333333333333336, 0.5)"
      ]
     },
     "execution_count": 88,
     "metadata": {},
     "output_type": "execute_result"
    }
   ],
   "source": [
    "tweet = \"Acheter des vêtements ça rend grave heureux en vrai.\"\n",
    "TextBlob(tweet, pos_tagger=PatternTagger(), analyzer=PatternAnalyzer()).sentiment"
   ]
  },
  {
   "cell_type": "markdown",
   "id": "a67559b2",
   "metadata": {},
   "source": [
    "TextBlob().sentiment returns a tuple (sentiment_polarity, sentiment_subjectivity)\n",
    "- sentiment_polarity between -1 and 1\n",
    "- sentiment_subjectivity batween 0 and 1"
   ]
  },
  {
   "cell_type": "code",
   "execution_count": 89,
   "id": "098e9515",
   "metadata": {
    "collapsed": true
   },
   "outputs": [
    {
     "name": "stdout",
     "output_type": "stream",
     "text": [
      "Help on class TextBlob in module textblob.blob:\n",
      "\n",
      "class TextBlob(BaseBlob)\n",
      " |  TextBlob(text, tokenizer=None, pos_tagger=None, np_extractor=None, analyzer=None, parser=None, classifier=None, clean_html=False)\n",
      " |  \n",
      " |  A general text block, meant for larger bodies of text (esp. those\n",
      " |  containing sentences). Inherits from :class:`BaseBlob <BaseBlob>`.\n",
      " |  \n",
      " |  :param str text: A string.\n",
      " |  :param tokenizer: (optional) A tokenizer instance. If ``None``, defaults to\n",
      " |      :class:`WordTokenizer() <textblob.tokenizers.WordTokenizer>`.\n",
      " |  :param np_extractor: (optional) An NPExtractor instance. If ``None``,\n",
      " |      defaults to :class:`FastNPExtractor() <textblob.en.np_extractors.FastNPExtractor>`.\n",
      " |  :param pos_tagger: (optional) A Tagger instance. If ``None``, defaults to\n",
      " |      :class:`NLTKTagger <textblob.en.taggers.NLTKTagger>`.\n",
      " |  :param analyzer: (optional) A sentiment analyzer. If ``None``, defaults to\n",
      " |      :class:`PatternAnalyzer <textblob.en.sentiments.PatternAnalyzer>`.\n",
      " |  :param classifier: (optional) A classifier.\n",
      " |  \n",
      " |  Method resolution order:\n",
      " |      TextBlob\n",
      " |      BaseBlob\n",
      " |      textblob.mixins.StringlikeMixin\n",
      " |      textblob.mixins.BlobComparableMixin\n",
      " |      textblob.mixins.ComparableMixin\n",
      " |      builtins.object\n",
      " |  \n",
      " |  Methods defined here:\n",
      " |  \n",
      " |  sentences = <textblob.decorators.cached_property object>\n",
      " |  to_json(self, *args, **kwargs)\n",
      " |      Return a json representation (str) of this blob.\n",
      " |      Takes the same arguments as json.dumps.\n",
      " |      \n",
      " |      .. versionadded:: 0.5.1\n",
      " |  \n",
      " |  words = <textblob.decorators.cached_property object>\n",
      " |  ----------------------------------------------------------------------\n",
      " |  Readonly properties defined here:\n",
      " |  \n",
      " |  json\n",
      " |      The json representation of this blob.\n",
      " |      \n",
      " |      .. versionchanged:: 0.5.1\n",
      " |          Made ``json`` a property instead of a method to restore backwards\n",
      " |          compatibility that was broken after version 0.4.0.\n",
      " |  \n",
      " |  raw_sentences\n",
      " |      List of strings, the raw sentences in the blob.\n",
      " |  \n",
      " |  serialized\n",
      " |      Returns a list of each sentence's dict representation.\n",
      " |  \n",
      " |  ----------------------------------------------------------------------\n",
      " |  Methods inherited from BaseBlob:\n",
      " |  \n",
      " |  __add__(self, other)\n",
      " |      Concatenates two text objects the same way Python strings are\n",
      " |      concatenated.\n",
      " |      \n",
      " |      Arguments:\n",
      " |      - `other`: a string or a text object\n",
      " |  \n",
      " |  __hash__(self)\n",
      " |      Return hash(self).\n",
      " |  \n",
      " |  __init__(self, text, tokenizer=None, pos_tagger=None, np_extractor=None, analyzer=None, parser=None, classifier=None, clean_html=False)\n",
      " |      Initialize self.  See help(type(self)) for accurate signature.\n",
      " |  \n",
      " |  classify(self)\n",
      " |      Classify the blob using the blob's ``classifier``.\n",
      " |  \n",
      " |  correct(self)\n",
      " |      Attempt to correct the spelling of a blob.\n",
      " |      \n",
      " |      .. versionadded:: 0.6.0\n",
      " |      \n",
      " |      :rtype: :class:`BaseBlob <BaseBlob>`\n",
      " |  \n",
      " |  detect_language(self)\n",
      " |      Detect the blob's language using the Google Translate API.\n",
      " |      \n",
      " |      Requires an internet connection.\n",
      " |      \n",
      " |      Usage:\n",
      " |      ::\n",
      " |      \n",
      " |          >>> b = TextBlob(\"bonjour\")\n",
      " |          >>> b.detect_language()\n",
      " |          u'fr'\n",
      " |      \n",
      " |      Language code reference:\n",
      " |          https://developers.google.com/translate/v2/using_rest#language-params\n",
      " |      \n",
      " |      .. versionadded:: 0.5.0\n",
      " |      \n",
      " |      :rtype: str\n",
      " |  \n",
      " |  ngrams(self, n=3)\n",
      " |      Return a list of n-grams (tuples of n successive words) for this\n",
      " |      blob.\n",
      " |      \n",
      " |      :rtype: List of :class:`WordLists <WordList>`\n",
      " |  \n",
      " |  noun_phrases = <textblob.decorators.cached_property object>\n",
      " |  np_counts = <textblob.decorators.cached_property object>\n",
      " |  parse(self, parser=None)\n",
      " |      Parse the text.\n",
      " |      \n",
      " |      :param parser: (optional) A parser instance. If ``None``, defaults to\n",
      " |          this blob's default parser.\n",
      " |      \n",
      " |      .. versionadded:: 0.6.0\n",
      " |  \n",
      " |  polarity = <textblob.decorators.cached_property object>\n",
      " |  pos_tags = <textblob.decorators.cached_property object>\n",
      " |  sentiment = <textblob.decorators.cached_property object>\n",
      " |  sentiment_assessments = <textblob.decorators.cached_property object>\n",
      " |  split(self, sep=None, maxsplit=9223372036854775807)\n",
      " |      Behaves like the built-in str.split() except returns a\n",
      " |      WordList.\n",
      " |      \n",
      " |      :rtype: :class:`WordList <WordList>`\n",
      " |  \n",
      " |  subjectivity = <textblob.decorators.cached_property object>\n",
      " |  tags = <textblob.decorators.cached_property object>\n",
      " |  tokenize(self, tokenizer=None)\n",
      " |      Return a list of tokens, using ``tokenizer``.\n",
      " |      \n",
      " |      :param tokenizer: (optional) A tokenizer object. If None, defaults to\n",
      " |          this blob's default tokenizer.\n",
      " |  \n",
      " |  tokens = <textblob.decorators.cached_property object>\n",
      " |  translate(self, from_lang='auto', to='en')\n",
      " |      Translate the blob to another language.\n",
      " |      Uses the Google Translate API. Returns a new TextBlob.\n",
      " |      \n",
      " |      Requires an internet connection.\n",
      " |      \n",
      " |      Usage:\n",
      " |      ::\n",
      " |      \n",
      " |          >>> b = TextBlob(\"Simple is better than complex\")\n",
      " |          >>> b.translate(to=\"es\")\n",
      " |          TextBlob('Lo simple es mejor que complejo')\n",
      " |      \n",
      " |      Language code reference:\n",
      " |          https://developers.google.com/translate/v2/using_rest#language-params\n",
      " |      \n",
      " |      .. versionadded:: 0.5.0.\n",
      " |      \n",
      " |      :param str from_lang: Language to translate from. If ``None``, will attempt\n",
      " |          to detect the language.\n",
      " |      :param str to: Language to translate to.\n",
      " |      :rtype: :class:`BaseBlob <BaseBlob>`\n",
      " |  \n",
      " |  word_counts = <textblob.decorators.cached_property object>\n",
      " |  ----------------------------------------------------------------------\n",
      " |  Data and other attributes inherited from BaseBlob:\n",
      " |  \n",
      " |  analyzer = <textblob.en.sentiments.PatternAnalyzer object>\n",
      " |  \n",
      " |  np_extractor = <textblob.en.np_extractors.FastNPExtractor object>\n",
      " |  \n",
      " |  parser = <textblob.en.parsers.PatternParser object>\n",
      " |  \n",
      " |  pos_tagger = <textblob.en.taggers.NLTKTagger object>\n",
      " |  \n",
      " |  tokenizer = <textblob.tokenizers.WordTokenizer object>\n",
      " |  \n",
      " |  translator = <textblob.translate.Translator object>\n",
      " |  \n",
      " |  ----------------------------------------------------------------------\n",
      " |  Methods inherited from textblob.mixins.StringlikeMixin:\n",
      " |  \n",
      " |  __contains__(self, sub)\n",
      " |      Implements the `in` keyword like a Python string.\n",
      " |  \n",
      " |  __getitem__(self, index)\n",
      " |      Returns a  substring. If index is an integer, returns a Python\n",
      " |      string of a single character. If a range is given, e.g. `blob[3:5]`,\n",
      " |      a new instance of the class is returned.\n",
      " |  \n",
      " |  __iter__(self)\n",
      " |      Makes the object iterable as if it were a string,\n",
      " |      iterating through the raw string's characters.\n",
      " |  \n",
      " |  __len__(self)\n",
      " |      Returns the length of the raw text.\n",
      " |  \n",
      " |  __repr__(self)\n",
      " |      Returns a string representation for debugging.\n",
      " |  \n",
      " |  __str__(self)\n",
      " |      Returns a string representation used in print statements\n",
      " |      or str(my_blob).\n",
      " |  \n",
      " |  ends_with = endswith(self, suffix, start=0, end=9223372036854775807)\n",
      " |  \n",
      " |  endswith(self, suffix, start=0, end=9223372036854775807)\n",
      " |      Returns True if the blob ends with the given suffix.\n",
      " |  \n",
      " |  find(self, sub, start=0, end=9223372036854775807)\n",
      " |      Behaves like the built-in str.find() method. Returns an integer,\n",
      " |      the index of the first occurrence of the substring argument sub in the\n",
      " |      sub-string given by [start:end].\n",
      " |  \n",
      " |  format(self, *args, **kwargs)\n",
      " |      Perform a string formatting operation, like the built-in\n",
      " |      `str.format(*args, **kwargs)`. Returns a blob object.\n",
      " |  \n",
      " |  index(self, sub, start=0, end=9223372036854775807)\n",
      " |      Like blob.find() but raise ValueError when the substring\n",
      " |      is not found.\n",
      " |  \n",
      " |  join(self, iterable)\n",
      " |      Behaves like the built-in `str.join(iterable)` method, except\n",
      " |      returns a blob object.\n",
      " |      \n",
      " |      Returns a blob which is the concatenation of the strings or blobs\n",
      " |      in the iterable.\n",
      " |  \n",
      " |  lower(self)\n",
      " |      Like str.lower(), returns new object with all lower-cased characters.\n",
      " |  \n",
      " |  replace(self, old, new, count=9223372036854775807)\n",
      " |      Return a new blob object with all the occurence of `old` replaced\n",
      " |      by `new`.\n",
      " |  \n",
      " |  rfind(self, sub, start=0, end=9223372036854775807)\n",
      " |      Behaves like the built-in str.rfind() method. Returns an integer,\n",
      " |      the index of he last (right-most) occurence of the substring argument\n",
      " |      sub in the sub-sequence given by [start:end].\n",
      " |  \n",
      " |  rindex(self, sub, start=0, end=9223372036854775807)\n",
      " |      Like blob.rfind() but raise ValueError when substring is not\n",
      " |      found.\n",
      " |  \n",
      " |  starts_with = startswith(self, prefix, start=0, end=9223372036854775807)\n",
      " |  \n",
      " |  startswith(self, prefix, start=0, end=9223372036854775807)\n",
      " |      Returns True if the blob starts with the given prefix.\n",
      " |  \n",
      " |  strip(self, chars=None)\n",
      " |      Behaves like the built-in str.strip([chars]) method. Returns\n",
      " |      an object with leading and trailing whitespace removed.\n",
      " |  \n",
      " |  title(self)\n",
      " |      Returns a blob object with the text in title-case.\n",
      " |  \n",
      " |  upper(self)\n",
      " |      Like str.upper(), returns new object with all upper-cased characters.\n",
      " |  \n",
      " |  ----------------------------------------------------------------------\n",
      " |  Data descriptors inherited from textblob.mixins.StringlikeMixin:\n",
      " |  \n",
      " |  __dict__\n",
      " |      dictionary for instance variables (if defined)\n",
      " |  \n",
      " |  __weakref__\n",
      " |      list of weak references to the object (if defined)\n",
      " |  \n",
      " |  ----------------------------------------------------------------------\n",
      " |  Methods inherited from textblob.mixins.ComparableMixin:\n",
      " |  \n",
      " |  __eq__(self, other)\n",
      " |      Return self==value.\n",
      " |  \n",
      " |  __ge__(self, other)\n",
      " |      Return self>=value.\n",
      " |  \n",
      " |  __gt__(self, other)\n",
      " |      Return self>value.\n",
      " |  \n",
      " |  __le__(self, other)\n",
      " |      Return self<=value.\n",
      " |  \n",
      " |  __lt__(self, other)\n",
      " |      Return self<value.\n",
      " |  \n",
      " |  __ne__(self, other)\n",
      " |      Return self!=value.\n",
      "\n"
     ]
    }
   ],
   "source": [
    "help(TextBlob)"
   ]
  },
  {
   "cell_type": "code",
   "execution_count": 90,
   "id": "63577cae",
   "metadata": {},
   "outputs": [
    {
     "name": "stdout",
     "output_type": "stream",
     "text": [
      "Help on cached_property in module textblob.decorators:\n",
      "\n",
      "<textblob.decorators.cached_property object>\n"
     ]
    }
   ],
   "source": [
    "help(TextBlob.polarity)"
   ]
  },
  {
   "cell_type": "markdown",
   "id": "c84bca26",
   "metadata": {},
   "source": [
    "### II-1-b- Preprocessing des tweets"
   ]
  },
  {
   "cell_type": "code",
   "execution_count": 91,
   "id": "b82b2b4e",
   "metadata": {},
   "outputs": [
    {
     "data": {
      "text/plain": [
       "\"# cleaning laure\\n\\ndef clean (text):\\n    tokenized = word_tokenize(text) # Tokenize\\n    words_only = [word for word in tokenized if word.isalpha()] # Remove numbers\\n    stop_words = set(stopwords.words('french')) # Make stopword list\\n    without_stopwords = [word for word in words_only if not word in stop_words] # Remove Stop Words\\n    lemma=WordNetLemmatizer() # Initiate Lemmatizer\\n    lemmatized = [lemma.lemmatize(word) for word in without_stopwords] # Lemmatize\\n    return lemmatized\\n\\n# Apply to all texts\\ndf['tweet'] = df['tweet'].apply(clean)\\n# La fonction clean renvoyant une liste, je transforme cette liste en string\\ndf['tweet'] = df['tweet'].apply(lambda x: ' '.join(map(str, x)))\""
      ]
     },
     "execution_count": 91,
     "metadata": {},
     "output_type": "execute_result"
    }
   ],
   "source": [
    "\"\"\"# cleaning laure\n",
    "\n",
    "def clean (text):\n",
    "    tokenized = word_tokenize(text) # Tokenize\n",
    "    words_only = [word for word in tokenized if word.isalpha()] # Remove numbers\n",
    "    stop_words = set(stopwords.words('french')) # Make stopword list\n",
    "    without_stopwords = [word for word in words_only if not word in stop_words] # Remove Stop Words\n",
    "    lemma=WordNetLemmatizer() # Initiate Lemmatizer\n",
    "    lemmatized = [lemma.lemmatize(word) for word in without_stopwords] # Lemmatize\n",
    "    return lemmatized\n",
    "\n",
    "# Apply to all texts\n",
    "df['tweet'] = df['tweet'].apply(clean)\n",
    "# La fonction clean renvoyant une liste, je transforme cette liste en string\n",
    "df['tweet'] = df['tweet'].apply(lambda x: ' '.join(map(str, x)))\"\"\""
   ]
  },
  {
   "cell_type": "markdown",
   "id": "7bb27097",
   "metadata": {},
   "source": [
    "**Idées**:\n",
    "- pour ne pas garder \"@truc_muche\" mais quand même garder l'information qu'il s'agit d'un autre utilisateur on pourrait remplacer ces tokens par des noms propres ou au moins des tokens qui seraient identifiés comme tels"
   ]
  },
  {
   "cell_type": "code",
   "execution_count": 92,
   "id": "1559c54e",
   "metadata": {},
   "outputs": [],
   "source": [
    "def nlp_pipeline(text,with_account_ref=True):\n",
    "    text = text.lower()\n",
    "    text = text.replace('\\n', ' ').replace('\\r', '')\n",
    "    text = ' '.join(text.split())\n",
    "    text = re.sub(r\"\\@\", \"\", text) if with_account_ref else re.sub(r\"\\@\\S+\\s\", \"\", text)\n",
    "    text = re.sub(r\"[A-Za-z\\.]*[0-9]+[A-Za-z%°\\.]*\", \"\", text)\n",
    "    text = re.sub(r\"(\\s\\-\\s|-$)\", \"\", text)\n",
    "    text = re.sub(r\"[,\\!\\?\\%\\(\\)\\/\\\"]\", \"\", text)\n",
    "    text = re.sub(r\"\\&\\S*\\s\", \"\", text)\n",
    "    text = re.sub(r\"\\&\", \"\", text)\n",
    "    text = re.sub(r\"\\+\", \"\", text)\n",
    "    text = re.sub(r\"\\#\", \"\", text)\n",
    "    text = re.sub(r\"\\$\", \"\", text)\n",
    "    text = re.sub(r\"\\£\", \"\", text)\n",
    "    text = re.sub(r\"\\%\", \"\", text)\n",
    "    text = re.sub(r\"\\:\", \"\", text)\n",
    "    text = re.sub(r\"\\-\", \"\", text)\n",
    "    return text\n",
    "\n",
    "# other pattern \"(@.*?\\\\s{1})\" and \"http.*?\\\\s|http.*?$\""
   ]
  },
  {
   "cell_type": "code",
   "execution_count": 93,
   "id": "866ab403",
   "metadata": {},
   "outputs": [
    {
     "data": {
      "text/plain": [
       "'bill gates ne veut pas injecter de puce mais il a quand mm depose un brevet. brevet n°  wohttpst.copbuqoxhsfq  = la date. ohhh complotiste'"
      ]
     },
     "execution_count": 93,
     "metadata": {},
     "output_type": "execute_result"
    }
   ],
   "source": [
    "# tests sur le preprocessing\n",
    "\n",
    "corpus = data_df['tweet_formatted']\n",
    "corpus_clean = corpus.apply(lambda text:nlp_pipeline(text,with_account_ref=False))\n",
    "corpus_clean.iloc[100]"
   ]
  },
  {
   "cell_type": "code",
   "execution_count": 94,
   "id": "ee4e47a6",
   "metadata": {},
   "outputs": [
    {
     "data": {
      "text/plain": [
       "'bill gates ne veut pas injecter de puce, mais il a quand mm depose un brevet. brevet n° 60606 (wo/2020/060606)https://t.co/pbuqoxhsfq (2020 = la date). ohhh complotiste!!!!!!'"
      ]
     },
     "execution_count": 94,
     "metadata": {},
     "output_type": "execute_result"
    }
   ],
   "source": [
    "# tests sur le preprocessing\n",
    "\n",
    "data_df['tweet_formatted'].iloc[100]"
   ]
  },
  {
   "cell_type": "code",
   "execution_count": 95,
   "id": "7870b082",
   "metadata": {},
   "outputs": [],
   "source": [
    "# apply preprocessing\n",
    "\n",
    "data_df['tweet_cleaned'] = data_df['tweet_formatted'].apply(lambda text:nlp_pipeline(text,with_account_ref=False))"
   ]
  },
  {
   "cell_type": "markdown",
   "id": "9510b0a8",
   "metadata": {},
   "source": [
    "#### II-1-c- Apply textblog"
   ]
  },
  {
   "cell_type": "code",
   "execution_count": 175,
   "id": "c3be0721",
   "metadata": {},
   "outputs": [
    {
     "data": {
      "text/html": [
       "<div>\n",
       "<style scoped>\n",
       "    .dataframe tbody tr th:only-of-type {\n",
       "        vertical-align: middle;\n",
       "    }\n",
       "\n",
       "    .dataframe tbody tr th {\n",
       "        vertical-align: top;\n",
       "    }\n",
       "\n",
       "    .dataframe thead th {\n",
       "        text-align: right;\n",
       "    }\n",
       "</style>\n",
       "<table border=\"1\" class=\"dataframe\">\n",
       "  <thead>\n",
       "    <tr style=\"text-align: right;\">\n",
       "      <th></th>\n",
       "      <th>pseudo</th>\n",
       "      <th>tweet_date</th>\n",
       "      <th>tweet_mentions</th>\n",
       "      <th>status_id</th>\n",
       "      <th>tweet_formatted</th>\n",
       "      <th>is_rt</th>\n",
       "      <th>retweeted_status_id</th>\n",
       "      <th>retweeted_screen_name</th>\n",
       "      <th>geo_coords</th>\n",
       "      <th>description</th>\n",
       "      <th>followers_count</th>\n",
       "      <th>friends_count</th>\n",
       "      <th>listed_count</th>\n",
       "      <th>statuses_count</th>\n",
       "      <th>favourites_count</th>\n",
       "      <th>account_created_at</th>\n",
       "      <th>tweet_cleaned</th>\n",
       "      <th>sentiment_polarity</th>\n",
       "      <th>sentiment_subjectivity</th>\n",
       "    </tr>\n",
       "  </thead>\n",
       "  <tbody>\n",
       "    <tr>\n",
       "      <th>0</th>\n",
       "      <td>(Mysteriously Unnamed)</td>\n",
       "      <td>2020-04-05 20:21:03</td>\n",
       "      <td>Cheewyy4| nonopp4</td>\n",
       "      <td>1246895646730260488</td>\n",
       "      <td>@cheewyy4 @aiphanmarcel @nonopp4 quand il t im...</td>\n",
       "      <td>False</td>\n",
       "      <td>NaN</td>\n",
       "      <td>NaN</td>\n",
       "      <td>NaN</td>\n",
       "      <td>NaN</td>\n",
       "      <td>NaN</td>\n",
       "      <td>NaN</td>\n",
       "      <td>NaN</td>\n",
       "      <td>NaN</td>\n",
       "      <td>NaN</td>\n",
       "      <td>NaT</td>\n",
       "      <td>quand il t imposera son vaccin et sa puce ....</td>\n",
       "      <td>0.000</td>\n",
       "      <td>0.00</td>\n",
       "    </tr>\n",
       "    <tr>\n",
       "      <th>1</th>\n",
       "      <td>_________adaa</td>\n",
       "      <td>2020-11-12 15:03:13</td>\n",
       "      <td>umut_dkr</td>\n",
       "      <td>1326903382662127622</td>\n",
       "      <td>@umut_dkr je t explique : dans ce soie disant ...</td>\n",
       "      <td>False</td>\n",
       "      <td>NaN</td>\n",
       "      <td>NaN</td>\n",
       "      <td>NA NA</td>\n",
       "      <td>De passage 🙃</td>\n",
       "      <td>729.0</td>\n",
       "      <td>431.0</td>\n",
       "      <td>0.0</td>\n",
       "      <td>3347.0</td>\n",
       "      <td>4165.0</td>\n",
       "      <td>2020-03-27 17:58:56</td>\n",
       "      <td>je t explique  dans ce soie disant vaccin il y...</td>\n",
       "      <td>0.049</td>\n",
       "      <td>0.21</td>\n",
       "    </tr>\n",
       "    <tr>\n",
       "      <th>2</th>\n",
       "      <td>______Stan_____</td>\n",
       "      <td>2021-01-13 14:37:39</td>\n",
       "      <td>laurentchemla</td>\n",
       "      <td>1349364994165633024</td>\n",
       "      <td>rt @laurentchemla quelqu un a deja reussi a fa...</td>\n",
       "      <td>True</td>\n",
       "      <td>1.349346e+18</td>\n",
       "      <td>laurentchemla</td>\n",
       "      <td>NA NA</td>\n",
       "      <td>Dolce Vita à Marseille. \\nDiffuseur de bon pla...</td>\n",
       "      <td>509.0</td>\n",
       "      <td>468.0</td>\n",
       "      <td>22.0</td>\n",
       "      <td>18153.0</td>\n",
       "      <td>11004.0</td>\n",
       "      <td>2014-10-26 13:18:03</td>\n",
       "      <td>rt quelqu un a deja reussi a faire tourner doo...</td>\n",
       "      <td>-0.200</td>\n",
       "      <td>-0.40</td>\n",
       "    </tr>\n",
       "    <tr>\n",
       "      <th>3</th>\n",
       "      <td>_____Aurore</td>\n",
       "      <td>2020-10-13 05:07:59</td>\n",
       "      <td>Lola__bos</td>\n",
       "      <td>1315881950004088833</td>\n",
       "      <td>rt @lola__bos poitiers je suis nounou pour ce ...</td>\n",
       "      <td>True</td>\n",
       "      <td>1.315695e+18</td>\n",
       "      <td>Lola__bos</td>\n",
       "      <td>NA NA</td>\n",
       "      <td>twitter is dark and full of spoilers.</td>\n",
       "      <td>475.0</td>\n",
       "      <td>353.0</td>\n",
       "      <td>12.0</td>\n",
       "      <td>66194.0</td>\n",
       "      <td>2097.0</td>\n",
       "      <td>2012-01-07 17:21:43</td>\n",
       "      <td>rt poitiers je suis nounou pour ce potit chat ...</td>\n",
       "      <td>0.092</td>\n",
       "      <td>0.30</td>\n",
       "    </tr>\n",
       "    <tr>\n",
       "      <th>4</th>\n",
       "      <td>_____ilham</td>\n",
       "      <td>2020-11-13 00:09:38</td>\n",
       "      <td>MikeStnm_</td>\n",
       "      <td>1327040891404611586</td>\n",
       "      <td>rt @mikestnm_ moi quand le gouvernement contro...</td>\n",
       "      <td>True</td>\n",
       "      <td>1.326938e+18</td>\n",
       "      <td>MikeStnm_</td>\n",
       "      <td>NA NA</td>\n",
       "      <td>Open up ur soul show me how its fake</td>\n",
       "      <td>37.0</td>\n",
       "      <td>94.0</td>\n",
       "      <td>0.0</td>\n",
       "      <td>1265.0</td>\n",
       "      <td>1443.0</td>\n",
       "      <td>2016-11-24 19:22:51</td>\n",
       "      <td>rt moi quand le gouvernement controlera mon es...</td>\n",
       "      <td>0.200</td>\n",
       "      <td>0.30</td>\n",
       "    </tr>\n",
       "  </tbody>\n",
       "</table>\n",
       "</div>"
      ],
      "text/plain": [
       "                   pseudo          tweet_date      tweet_mentions  \\\n",
       "0  (Mysteriously Unnamed) 2020-04-05 20:21:03  Cheewyy4| nonopp4    \n",
       "1           _________adaa 2020-11-12 15:03:13           umut_dkr    \n",
       "2         ______Stan_____ 2021-01-13 14:37:39      laurentchemla    \n",
       "3             _____Aurore 2020-10-13 05:07:59          Lola__bos    \n",
       "4              _____ilham 2020-11-13 00:09:38          MikeStnm_    \n",
       "\n",
       "             status_id                                    tweet_formatted  \\\n",
       "0  1246895646730260488  @cheewyy4 @aiphanmarcel @nonopp4 quand il t im...   \n",
       "1  1326903382662127622  @umut_dkr je t explique : dans ce soie disant ...   \n",
       "2  1349364994165633024  rt @laurentchemla quelqu un a deja reussi a fa...   \n",
       "3  1315881950004088833  rt @lola__bos poitiers je suis nounou pour ce ...   \n",
       "4  1327040891404611586  rt @mikestnm_ moi quand le gouvernement contro...   \n",
       "\n",
       "   is_rt  retweeted_status_id retweeted_screen_name geo_coords  \\\n",
       "0  False                  NaN                   NaN        NaN   \n",
       "1  False                  NaN                   NaN      NA NA   \n",
       "2   True         1.349346e+18         laurentchemla      NA NA   \n",
       "3   True         1.315695e+18             Lola__bos      NA NA   \n",
       "4   True         1.326938e+18             MikeStnm_      NA NA   \n",
       "\n",
       "                                         description  followers_count  \\\n",
       "0                                                NaN              NaN   \n",
       "1                                       De passage 🙃            729.0   \n",
       "2  Dolce Vita à Marseille. \\nDiffuseur de bon pla...            509.0   \n",
       "3              twitter is dark and full of spoilers.            475.0   \n",
       "4               Open up ur soul show me how its fake             37.0   \n",
       "\n",
       "   friends_count  listed_count  statuses_count  favourites_count  \\\n",
       "0            NaN           NaN             NaN               NaN   \n",
       "1          431.0           0.0          3347.0            4165.0   \n",
       "2          468.0          22.0         18153.0           11004.0   \n",
       "3          353.0          12.0         66194.0            2097.0   \n",
       "4           94.0           0.0          1265.0            1443.0   \n",
       "\n",
       "   account_created_at                                      tweet_cleaned  \\\n",
       "0                 NaT     quand il t imposera son vaccin et sa puce ....   \n",
       "1 2020-03-27 17:58:56  je t explique  dans ce soie disant vaccin il y...   \n",
       "2 2014-10-26 13:18:03  rt quelqu un a deja reussi a faire tourner doo...   \n",
       "3 2012-01-07 17:21:43  rt poitiers je suis nounou pour ce potit chat ...   \n",
       "4 2016-11-24 19:22:51  rt moi quand le gouvernement controlera mon es...   \n",
       "\n",
       "   sentiment_polarity  sentiment_subjectivity  \n",
       "0               0.000                    0.00  \n",
       "1               0.049                    0.21  \n",
       "2              -0.200                   -0.40  \n",
       "3               0.092                    0.30  \n",
       "4               0.200                    0.30  "
      ]
     },
     "execution_count": 175,
     "metadata": {},
     "output_type": "execute_result"
    }
   ],
   "source": [
    "def compute_sentiment(text):\n",
    "    sentiment_polarity, sentiment_subjectivity = TextBlob(text, pos_tagger=PatternTagger(), analyzer=PatternAnalyzer()).sentiment\n",
    "    return {'sentiment_polarity':sentiment_polarity,'sentiment_subjectivity':sentiment_subjectivity}\n",
    "\n",
    "\n",
    "data_df_new = data_df.merge(data_df.apply(lambda row:pd.Series(compute_sentiment(text=row['tweet_cleaned'])),axis=1),left_index=True,right_index=True)\n",
    "data_df_new.head()"
   ]
  },
  {
   "cell_type": "code",
   "execution_count": 213,
   "id": "85f9bb74",
   "metadata": {},
   "outputs": [
    {
     "data": {
      "text/plain": [
       "(193209, 19)"
      ]
     },
     "execution_count": 213,
     "metadata": {},
     "output_type": "execute_result"
    }
   ],
   "source": [
    "data_df_new.shape"
   ]
  },
  {
   "cell_type": "code",
   "execution_count": 176,
   "id": "d6228aae",
   "metadata": {},
   "outputs": [
    {
     "data": {
      "text/html": [
       "<div>\n",
       "<style scoped>\n",
       "    .dataframe tbody tr th:only-of-type {\n",
       "        vertical-align: middle;\n",
       "    }\n",
       "\n",
       "    .dataframe tbody tr th {\n",
       "        vertical-align: top;\n",
       "    }\n",
       "\n",
       "    .dataframe thead th {\n",
       "        text-align: right;\n",
       "    }\n",
       "</style>\n",
       "<table border=\"1\" class=\"dataframe\">\n",
       "  <thead>\n",
       "    <tr style=\"text-align: right;\">\n",
       "      <th></th>\n",
       "      <th>sentiment_polarity</th>\n",
       "      <th>sentiment_subjectivity</th>\n",
       "    </tr>\n",
       "  </thead>\n",
       "  <tbody>\n",
       "    <tr>\n",
       "      <th>count</th>\n",
       "      <td>193209.000000</td>\n",
       "      <td>193209.000000</td>\n",
       "    </tr>\n",
       "    <tr>\n",
       "      <th>mean</th>\n",
       "      <td>0.045798</td>\n",
       "      <td>0.228072</td>\n",
       "    </tr>\n",
       "    <tr>\n",
       "      <th>std</th>\n",
       "      <td>0.186863</td>\n",
       "      <td>0.710816</td>\n",
       "    </tr>\n",
       "    <tr>\n",
       "      <th>min</th>\n",
       "      <td>-1.000000</td>\n",
       "      <td>-0.800000</td>\n",
       "    </tr>\n",
       "    <tr>\n",
       "      <th>25%</th>\n",
       "      <td>0.000000</td>\n",
       "      <td>0.000000</td>\n",
       "    </tr>\n",
       "    <tr>\n",
       "      <th>50%</th>\n",
       "      <td>0.000000</td>\n",
       "      <td>0.150000</td>\n",
       "    </tr>\n",
       "    <tr>\n",
       "      <th>75%</th>\n",
       "      <td>0.145000</td>\n",
       "      <td>0.316667</td>\n",
       "    </tr>\n",
       "    <tr>\n",
       "      <th>max</th>\n",
       "      <td>1.000000</td>\n",
       "      <td>17.650000</td>\n",
       "    </tr>\n",
       "  </tbody>\n",
       "</table>\n",
       "</div>"
      ],
      "text/plain": [
       "       sentiment_polarity  sentiment_subjectivity\n",
       "count       193209.000000           193209.000000\n",
       "mean             0.045798                0.228072\n",
       "std              0.186863                0.710816\n",
       "min             -1.000000               -0.800000\n",
       "25%              0.000000                0.000000\n",
       "50%              0.000000                0.150000\n",
       "75%              0.145000                0.316667\n",
       "max              1.000000               17.650000"
      ]
     },
     "execution_count": 176,
     "metadata": {},
     "output_type": "execute_result"
    }
   ],
   "source": [
    "data_df_new[['sentiment_polarity','sentiment_subjectivity']].describe()"
   ]
  },
  {
   "cell_type": "code",
   "execution_count": 177,
   "id": "f31ac5f0",
   "metadata": {},
   "outputs": [
    {
     "data": {
      "text/plain": [
       "5644"
      ]
     },
     "execution_count": 177,
     "metadata": {},
     "output_type": "execute_result"
    }
   ],
   "source": [
    "data_df_new['sentiment_subjectivity'][data_df_new['sentiment_subjectivity']<0].count()"
   ]
  },
  {
   "cell_type": "code",
   "execution_count": 178,
   "id": "33392995",
   "metadata": {},
   "outputs": [
    {
     "data": {
      "text/plain": [
       "901"
      ]
     },
     "execution_count": 178,
     "metadata": {},
     "output_type": "execute_result"
    }
   ],
   "source": [
    "data_df_new['sentiment_subjectivity'][data_df_new['sentiment_subjectivity']>1].count()"
   ]
  },
  {
   "cell_type": "code",
   "execution_count": 214,
   "id": "a13aaea0",
   "metadata": {},
   "outputs": [
    {
     "data": {
      "text/plain": [
       "(186664, 19)"
      ]
     },
     "execution_count": 214,
     "metadata": {},
     "output_type": "execute_result"
    }
   ],
   "source": [
    "# delete strange subjectivity\n",
    "data_df_new_filtered = data_df_new[(data_df_new['sentiment_subjectivity']>=0)&(data_df_new['sentiment_subjectivity']<=1)]\n",
    "data_df_new_filtered.shape"
   ]
  },
  {
   "cell_type": "code",
   "execution_count": 180,
   "id": "6dce55a4",
   "metadata": {},
   "outputs": [
    {
     "data": {
      "image/png": "[encoded data removed]",
      "text/plain": [
       "<Figure size 432x288 with 2 Axes>"
      ]
     },
     "metadata": {
      "needs_background": "light"
     },
     "output_type": "display_data"
    }
   ],
   "source": [
    "hist = data_df_new_filtered[['sentiment_polarity','sentiment_subjectivity']].hist(bins=20)"
   ]
  },
  {
   "cell_type": "markdown",
   "id": "d0c2d51b",
   "metadata": {},
   "source": [
    "## II- Analyse de la viralité\n",
    "### II-1- KPI computation"
   ]
  },
  {
   "cell_type": "code",
   "execution_count": 237,
   "id": "30e0427a",
   "metadata": {},
   "outputs": [
    {
     "data": {
      "text/plain": [
       "(119338, 16)"
      ]
     },
     "execution_count": 237,
     "metadata": {},
     "output_type": "execute_result"
    }
   ],
   "source": [
    "columns_to_keep_2 = ['pseudo',\n",
    "                   'tweet_date',\n",
    "                   'status_id',\n",
    "                   'is_rt',\n",
    "                   'retweeted_status_id',\n",
    "                   'account_created_at',\n",
    "                    'tweet_cleaned',\n",
    "                    'sentiment_polarity',\n",
    "                    'sentiment_subjectivity']\n",
    "\n",
    "data_to_group_by = data_df_new_filtered[columns_to_keep][pd.notnull(data_df_new_filtered['retweeted_status_id'])]\n",
    "#data_to_group_by['retweeted_status_id'] = data_to_group_by['retweeted_status_id'].astype('int64')\n",
    "data_to_group_by.shape"
   ]
  },
  {
   "cell_type": "code",
   "execution_count": 240,
   "id": "11f60db5",
   "metadata": {},
   "outputs": [
    {
     "data": {
      "text/html": [
       "<div>\n",
       "<style scoped>\n",
       "    .dataframe tbody tr th:only-of-type {\n",
       "        vertical-align: middle;\n",
       "    }\n",
       "\n",
       "    .dataframe tbody tr th {\n",
       "        vertical-align: top;\n",
       "    }\n",
       "\n",
       "    .dataframe thead th {\n",
       "        text-align: right;\n",
       "    }\n",
       "</style>\n",
       "<table border=\"1\" class=\"dataframe\">\n",
       "  <thead>\n",
       "    <tr style=\"text-align: right;\">\n",
       "      <th></th>\n",
       "      <th>status_id</th>\n",
       "      <th>count</th>\n",
       "    </tr>\n",
       "  </thead>\n",
       "  <tbody>\n",
       "    <tr>\n",
       "      <th>count</th>\n",
       "      <td>1.457900e+04</td>\n",
       "      <td>14579.000000</td>\n",
       "    </tr>\n",
       "    <tr>\n",
       "      <th>mean</th>\n",
       "      <td>1.301332e+18</td>\n",
       "      <td>8.185609</td>\n",
       "    </tr>\n",
       "    <tr>\n",
       "      <th>std</th>\n",
       "      <td>4.086934e+16</td>\n",
       "      <td>35.173657</td>\n",
       "    </tr>\n",
       "    <tr>\n",
       "      <th>min</th>\n",
       "      <td>3.034768e+17</td>\n",
       "      <td>1.000000</td>\n",
       "    </tr>\n",
       "    <tr>\n",
       "      <th>25%</th>\n",
       "      <td>1.262107e+18</td>\n",
       "      <td>1.000000</td>\n",
       "    </tr>\n",
       "    <tr>\n",
       "      <th>50%</th>\n",
       "      <td>1.301179e+18</td>\n",
       "      <td>2.000000</td>\n",
       "    </tr>\n",
       "    <tr>\n",
       "      <th>75%</th>\n",
       "      <td>1.335672e+18</td>\n",
       "      <td>4.000000</td>\n",
       "    </tr>\n",
       "    <tr>\n",
       "      <th>max</th>\n",
       "      <td>1.366174e+18</td>\n",
       "      <td>1421.000000</td>\n",
       "    </tr>\n",
       "  </tbody>\n",
       "</table>\n",
       "</div>"
      ],
      "text/plain": [
       "          status_id         count\n",
       "count  1.457900e+04  14579.000000\n",
       "mean   1.301332e+18      8.185609\n",
       "std    4.086934e+16     35.173657\n",
       "min    3.034768e+17      1.000000\n",
       "25%    1.262107e+18      1.000000\n",
       "50%    1.301179e+18      2.000000\n",
       "75%    1.335672e+18      4.000000\n",
       "max    1.366174e+18   1421.000000"
      ]
     },
     "execution_count": 240,
     "metadata": {},
     "output_type": "execute_result"
    }
   ],
   "source": [
    "# nombre de fois qu'un tweet est retweeté\n",
    "retweet_count = data_to_group_by[['retweeted_status_id','status_id']].groupby('retweeted_status_id').agg('count').reset_index()\n",
    "retweet_count.columns = ['status_id', 'count']\n",
    "retweet_count.describe()"
   ]
  },
  {
   "cell_type": "code",
   "execution_count": 241,
   "id": "3c7b767c",
   "metadata": {},
   "outputs": [
    {
     "data": {
      "text/plain": [
       "14579"
      ]
     },
     "execution_count": 241,
     "metadata": {},
     "output_type": "execute_result"
    }
   ],
   "source": [
    "retweet_count['status_id'].nunique()"
   ]
  },
  {
   "cell_type": "code",
   "execution_count": 242,
   "id": "d500b72a",
   "metadata": {},
   "outputs": [
    {
     "name": "stderr",
     "output_type": "stream",
     "text": [
      "<ipython-input-242-a81e77670973>:3: SettingWithCopyWarning: \n",
      "A value is trying to be set on a copy of a slice from a DataFrame.\n",
      "Try using .loc[row_indexer,col_indexer] = value instead\n",
      "\n",
      "See the caveats in the documentation: https://pandas.pydata.org/pandas-docs/stable/user_guide/indexing.html#returning-a-view-versus-a-copy\n",
      "  data_to_group_by_date['tweet_date_2'] = data_to_group_by_date['tweet_date']\n"
     ]
    },
    {
     "data": {
      "text/html": [
       "<div>\n",
       "<style scoped>\n",
       "    .dataframe tbody tr th:only-of-type {\n",
       "        vertical-align: middle;\n",
       "    }\n",
       "\n",
       "    .dataframe tbody tr th {\n",
       "        vertical-align: top;\n",
       "    }\n",
       "\n",
       "    .dataframe thead th {\n",
       "        text-align: right;\n",
       "    }\n",
       "</style>\n",
       "<table border=\"1\" class=\"dataframe\">\n",
       "  <thead>\n",
       "    <tr style=\"text-align: right;\">\n",
       "      <th></th>\n",
       "      <th>status_id</th>\n",
       "      <th>delta_time</th>\n",
       "    </tr>\n",
       "  </thead>\n",
       "  <tbody>\n",
       "    <tr>\n",
       "      <th>count</th>\n",
       "      <td>1.457900e+04</td>\n",
       "      <td>14579.000000</td>\n",
       "    </tr>\n",
       "    <tr>\n",
       "      <th>mean</th>\n",
       "      <td>1.301332e+18</td>\n",
       "      <td>15263.781809</td>\n",
       "    </tr>\n",
       "    <tr>\n",
       "      <th>std</th>\n",
       "      <td>4.086934e+16</td>\n",
       "      <td>23872.983330</td>\n",
       "    </tr>\n",
       "    <tr>\n",
       "      <th>min</th>\n",
       "      <td>3.034768e+17</td>\n",
       "      <td>0.000000</td>\n",
       "    </tr>\n",
       "    <tr>\n",
       "      <th>25%</th>\n",
       "      <td>1.262107e+18</td>\n",
       "      <td>0.000000</td>\n",
       "    </tr>\n",
       "    <tr>\n",
       "      <th>50%</th>\n",
       "      <td>1.301179e+18</td>\n",
       "      <td>350.000000</td>\n",
       "    </tr>\n",
       "    <tr>\n",
       "      <th>75%</th>\n",
       "      <td>1.335672e+18</td>\n",
       "      <td>24223.000000</td>\n",
       "    </tr>\n",
       "    <tr>\n",
       "      <th>max</th>\n",
       "      <td>1.366174e+18</td>\n",
       "      <td>86385.000000</td>\n",
       "    </tr>\n",
       "  </tbody>\n",
       "</table>\n",
       "</div>"
      ],
      "text/plain": [
       "          status_id    delta_time\n",
       "count  1.457900e+04  14579.000000\n",
       "mean   1.301332e+18  15263.781809\n",
       "std    4.086934e+16  23872.983330\n",
       "min    3.034768e+17      0.000000\n",
       "25%    1.262107e+18      0.000000\n",
       "50%    1.301179e+18    350.000000\n",
       "75%    1.335672e+18  24223.000000\n",
       "max    1.366174e+18  86385.000000"
      ]
     },
     "execution_count": 242,
     "metadata": {},
     "output_type": "execute_result"
    }
   ],
   "source": [
    "# duréee entre premier et dernier retweet\n",
    "data_to_group_by_date = data_to_group_by[['retweeted_status_id','tweet_date']]\n",
    "data_to_group_by_date['tweet_date_2'] = data_to_group_by_date['tweet_date']\n",
    "retweet_first_date_last_date = data_to_group_by_date.groupby('retweeted_status_id').agg({'tweet_date' : 'min', 'tweet_date_2' : 'max'}).reset_index()\n",
    "\n",
    "retweet_first_date_last_date['delta_time'] = retweet_first_date_last_date['tweet_date_2'] - retweet_first_date_last_date['tweet_date']\n",
    "retweet_first_date_last_date['delta_time'] = retweet_first_date_last_date['delta_time'].apply(lambda td:td.seconds)\n",
    "retweet_first_date_last_date = retweet_first_date_last_date[['retweeted_status_id','delta_time']]\n",
    "retweet_first_date_last_date.columns = ['status_id', 'delta_time']\n",
    "retweet_first_date_last_date.describe()"
   ]
  },
  {
   "cell_type": "code",
   "execution_count": 243,
   "id": "229d975f",
   "metadata": {},
   "outputs": [
    {
     "data": {
      "text/html": [
       "<div>\n",
       "<style scoped>\n",
       "    .dataframe tbody tr th:only-of-type {\n",
       "        vertical-align: middle;\n",
       "    }\n",
       "\n",
       "    .dataframe tbody tr th {\n",
       "        vertical-align: top;\n",
       "    }\n",
       "\n",
       "    .dataframe thead th {\n",
       "        text-align: right;\n",
       "    }\n",
       "</style>\n",
       "<table border=\"1\" class=\"dataframe\">\n",
       "  <thead>\n",
       "    <tr style=\"text-align: right;\">\n",
       "      <th></th>\n",
       "      <th>status_id</th>\n",
       "      <th>delta_time</th>\n",
       "    </tr>\n",
       "  </thead>\n",
       "  <tbody>\n",
       "    <tr>\n",
       "      <th>0</th>\n",
       "      <td>3.034768e+17</td>\n",
       "      <td>0</td>\n",
       "    </tr>\n",
       "    <tr>\n",
       "      <th>1</th>\n",
       "      <td>6.154432e+17</td>\n",
       "      <td>0</td>\n",
       "    </tr>\n",
       "    <tr>\n",
       "      <th>2</th>\n",
       "      <td>6.351336e+17</td>\n",
       "      <td>0</td>\n",
       "    </tr>\n",
       "    <tr>\n",
       "      <th>3</th>\n",
       "      <td>8.267312e+17</td>\n",
       "      <td>83504</td>\n",
       "    </tr>\n",
       "    <tr>\n",
       "      <th>4</th>\n",
       "      <td>8.756962e+17</td>\n",
       "      <td>0</td>\n",
       "    </tr>\n",
       "  </tbody>\n",
       "</table>\n",
       "</div>"
      ],
      "text/plain": [
       "      status_id  delta_time\n",
       "0  3.034768e+17           0\n",
       "1  6.154432e+17           0\n",
       "2  6.351336e+17           0\n",
       "3  8.267312e+17       83504\n",
       "4  8.756962e+17           0"
      ]
     },
     "execution_count": 243,
     "metadata": {},
     "output_type": "execute_result"
    }
   ],
   "source": [
    "retweet_first_date_last_date.head()"
   ]
  },
  {
   "cell_type": "code",
   "execution_count": 244,
   "id": "f5265035",
   "metadata": {},
   "outputs": [
    {
     "data": {
      "text/html": [
       "<div>\n",
       "<style scoped>\n",
       "    .dataframe tbody tr th:only-of-type {\n",
       "        vertical-align: middle;\n",
       "    }\n",
       "\n",
       "    .dataframe tbody tr th {\n",
       "        vertical-align: top;\n",
       "    }\n",
       "\n",
       "    .dataframe thead th {\n",
       "        text-align: right;\n",
       "    }\n",
       "</style>\n",
       "<table border=\"1\" class=\"dataframe\">\n",
       "  <thead>\n",
       "    <tr style=\"text-align: right;\">\n",
       "      <th></th>\n",
       "      <th>status_id</th>\n",
       "      <th>delta_time</th>\n",
       "    </tr>\n",
       "  </thead>\n",
       "  <tbody>\n",
       "    <tr>\n",
       "      <th>count</th>\n",
       "      <td>7.654000e+03</td>\n",
       "      <td>7654.000000</td>\n",
       "    </tr>\n",
       "    <tr>\n",
       "      <th>mean</th>\n",
       "      <td>1.302320e+18</td>\n",
       "      <td>29073.775150</td>\n",
       "    </tr>\n",
       "    <tr>\n",
       "      <th>std</th>\n",
       "      <td>3.896757e+16</td>\n",
       "      <td>26154.604957</td>\n",
       "    </tr>\n",
       "    <tr>\n",
       "      <th>min</th>\n",
       "      <td>8.267312e+17</td>\n",
       "      <td>1.000000</td>\n",
       "    </tr>\n",
       "    <tr>\n",
       "      <th>25%</th>\n",
       "      <td>1.263062e+18</td>\n",
       "      <td>4915.250000</td>\n",
       "    </tr>\n",
       "    <tr>\n",
       "      <th>50%</th>\n",
       "      <td>1.301875e+18</td>\n",
       "      <td>21846.500000</td>\n",
       "    </tr>\n",
       "    <tr>\n",
       "      <th>75%</th>\n",
       "      <td>1.336967e+18</td>\n",
       "      <td>49553.250000</td>\n",
       "    </tr>\n",
       "    <tr>\n",
       "      <th>max</th>\n",
       "      <td>1.366109e+18</td>\n",
       "      <td>86385.000000</td>\n",
       "    </tr>\n",
       "  </tbody>\n",
       "</table>\n",
       "</div>"
      ],
      "text/plain": [
       "          status_id    delta_time\n",
       "count  7.654000e+03   7654.000000\n",
       "mean   1.302320e+18  29073.775150\n",
       "std    3.896757e+16  26154.604957\n",
       "min    8.267312e+17      1.000000\n",
       "25%    1.263062e+18   4915.250000\n",
       "50%    1.301875e+18  21846.500000\n",
       "75%    1.336967e+18  49553.250000\n",
       "max    1.366109e+18  86385.000000"
      ]
     },
     "execution_count": 244,
     "metadata": {},
     "output_type": "execute_result"
    }
   ],
   "source": [
    "retweet_first_date_last_date[retweet_first_date_last_date['delta_time']>0].describe()"
   ]
  },
  {
   "cell_type": "code",
   "execution_count": 245,
   "id": "bc78e012",
   "metadata": {},
   "outputs": [
    {
     "data": {
      "text/html": [
       "<div>\n",
       "<style scoped>\n",
       "    .dataframe tbody tr th:only-of-type {\n",
       "        vertical-align: middle;\n",
       "    }\n",
       "\n",
       "    .dataframe tbody tr th {\n",
       "        vertical-align: top;\n",
       "    }\n",
       "\n",
       "    .dataframe thead th {\n",
       "        text-align: right;\n",
       "    }\n",
       "</style>\n",
       "<table border=\"1\" class=\"dataframe\">\n",
       "  <thead>\n",
       "    <tr style=\"text-align: right;\">\n",
       "      <th></th>\n",
       "      <th>retweeted_status_id</th>\n",
       "      <th>status_id</th>\n",
       "    </tr>\n",
       "  </thead>\n",
       "  <tbody>\n",
       "    <tr>\n",
       "      <th>count</th>\n",
       "      <td>1.457900e+04</td>\n",
       "      <td>14579.000000</td>\n",
       "    </tr>\n",
       "    <tr>\n",
       "      <th>mean</th>\n",
       "      <td>1.301332e+18</td>\n",
       "      <td>8.185609</td>\n",
       "    </tr>\n",
       "    <tr>\n",
       "      <th>std</th>\n",
       "      <td>4.086934e+16</td>\n",
       "      <td>35.173657</td>\n",
       "    </tr>\n",
       "    <tr>\n",
       "      <th>min</th>\n",
       "      <td>3.034768e+17</td>\n",
       "      <td>1.000000</td>\n",
       "    </tr>\n",
       "    <tr>\n",
       "      <th>25%</th>\n",
       "      <td>1.262107e+18</td>\n",
       "      <td>1.000000</td>\n",
       "    </tr>\n",
       "    <tr>\n",
       "      <th>50%</th>\n",
       "      <td>1.301179e+18</td>\n",
       "      <td>2.000000</td>\n",
       "    </tr>\n",
       "    <tr>\n",
       "      <th>75%</th>\n",
       "      <td>1.335672e+18</td>\n",
       "      <td>4.000000</td>\n",
       "    </tr>\n",
       "    <tr>\n",
       "      <th>max</th>\n",
       "      <td>1.366174e+18</td>\n",
       "      <td>1421.000000</td>\n",
       "    </tr>\n",
       "  </tbody>\n",
       "</table>\n",
       "</div>"
      ],
      "text/plain": [
       "       retweeted_status_id     status_id\n",
       "count         1.457900e+04  14579.000000\n",
       "mean          1.301332e+18      8.185609\n",
       "std           4.086934e+16     35.173657\n",
       "min           3.034768e+17      1.000000\n",
       "25%           1.262107e+18      1.000000\n",
       "50%           1.301179e+18      2.000000\n",
       "75%           1.335672e+18      4.000000\n",
       "max           1.366174e+18   1421.000000"
      ]
     },
     "execution_count": 245,
     "metadata": {},
     "output_type": "execute_result"
    }
   ],
   "source": [
    "# le nombre d'utilisateurs différents ayant retweetés\n",
    "retweet_user_distinct = data_to_group_by[['retweeted_status_id','status_id']].groupby('retweeted_status_id').agg(pd.Series.nunique).reset_index()\n",
    "retweet_user_distinct.describe()"
   ]
  },
  {
   "cell_type": "markdown",
   "id": "f64eaabf",
   "metadata": {},
   "source": [
    "**Remarque**: idem que count donc on oublie"
   ]
  },
  {
   "cell_type": "markdown",
   "id": "82adfa41",
   "metadata": {},
   "source": [
    "### II-2- Merge des KPIs"
   ]
  },
  {
   "cell_type": "code",
   "execution_count": 246,
   "id": "ac7deaa3",
   "metadata": {},
   "outputs": [
    {
     "data": {
      "text/plain": [
       "(12020, 19)"
      ]
     },
     "execution_count": 246,
     "metadata": {},
     "output_type": "execute_result"
    }
   ],
   "source": [
    "# check number fo tweets corresponding between data_df_new and retweeted_status_id_list\n",
    "retweeted_status_id_list = list(data_to_group_by['retweeted_status_id'].unique())\n",
    "data_df_new_filtered[data_df_new_filtered['status_id'].isin(retweeted_status_id_list)].shape"
   ]
  },
  {
   "cell_type": "code",
   "execution_count": 267,
   "id": "d55c9a94",
   "metadata": {},
   "outputs": [
    {
     "data": {
      "text/plain": [
       "14579"
      ]
     },
     "execution_count": 267,
     "metadata": {},
     "output_type": "execute_result"
    }
   ],
   "source": [
    "first_merge = retweet_first_date_last_date.merge(retweet_count, how='left', on=\"status_id\")\n",
    "first_merge['status_id'].nunique()"
   ]
  },
  {
   "cell_type": "code",
   "execution_count": 275,
   "id": "459ac29f",
   "metadata": {},
   "outputs": [
    {
     "data": {
      "text/plain": [
       "(12020, 19)"
      ]
     },
     "execution_count": 275,
     "metadata": {},
     "output_type": "execute_result"
    }
   ],
   "source": [
    "# check number fo tweets corresponding between data_df_new and retweeted_status_id_list\n",
    "retweeted_status_id_list = list(first_merge['status_id'].unique())\n",
    "data_df_new_filtered[data_df_new_filtered['status_id'].isin(retweeted_status_id_list)].shape"
   ]
  },
  {
   "cell_type": "code",
   "execution_count": 279,
   "id": "89cad434",
   "metadata": {},
   "outputs": [
    {
     "name": "stdout",
     "output_type": "stream",
     "text": [
      "<class 'pandas.core.frame.DataFrame'>\n",
      "Int64Index: 186664 entries, 0 to 186663\n",
      "Data columns (total 5 columns):\n",
      " #   Column                  Non-Null Count   Dtype  \n",
      "---  ------                  --------------   -----  \n",
      " 0   status_id               186664 non-null  int64  \n",
      " 1   sentiment_polarity      186664 non-null  float64\n",
      " 2   sentiment_subjectivity  186664 non-null  float64\n",
      " 3   delta_time              4672 non-null    float64\n",
      " 4   count                   4672 non-null    float64\n",
      "dtypes: float64(4), int64(1)\n",
      "memory usage: 8.5 MB\n"
     ]
    }
   ],
   "source": [
    "# PB HERE\n",
    "data_df_to_explore = pd.merge(data_df_new_filtered, first_merge, how='left', on='status_id')\n",
    "columns_to_keep_3 = ['status_id',\n",
    "                     'sentiment_polarity',\n",
    "                    'sentiment_subjectivity',\n",
    "                    'delta_time',\n",
    "                    'count'] # 'status_id',\n",
    "\n",
    "data_df_to_explore = data_df_to_explore[columns_to_keep_3]\n",
    "data_df_to_explore.info()"
   ]
  },
  {
   "cell_type": "code",
   "execution_count": 280,
   "id": "a8832c1c",
   "metadata": {},
   "outputs": [
    {
     "data": {
      "text/plain": [
       "<seaborn.axisgrid.JointGrid at 0x1e60f936940>"
      ]
     },
     "execution_count": 280,
     "metadata": {},
     "output_type": "execute_result"
    },
    {
     "data": {
      "image/png": "[encoded data removed]",
      "text/plain": [
       "<Figure size 432x432 with 3 Axes>"
      ]
     },
     "metadata": {
      "needs_background": "light"
     },
     "output_type": "display_data"
    }
   ],
   "source": [
    "sns.jointplot(x=data_df_to_explore['sentiment_polarity'], y=data_df_to_explore['count'])"
   ]
  },
  {
   "cell_type": "code",
   "execution_count": 249,
   "id": "d3db5d76",
   "metadata": {},
   "outputs": [
    {
     "data": {
      "text/plain": [
       "<seaborn.axisgrid.JointGrid at 0x1e6656c4f70>"
      ]
     },
     "execution_count": 249,
     "metadata": {},
     "output_type": "execute_result"
    },
    {
     "data": {
      "image/png": "[encoded data removed]",
      "text/plain": [
       "<Figure size 432x432 with 3 Axes>"
      ]
     },
     "metadata": {
      "needs_background": "light"
     },
     "output_type": "display_data"
    }
   ],
   "source": [
    "sns.jointplot(x=data_df_to_explore['sentiment_polarity'], y=data_df_to_explore['delta_time'])"
   ]
  },
  {
   "cell_type": "code",
   "execution_count": 250,
   "id": "b35a2b76",
   "metadata": {},
   "outputs": [
    {
     "data": {
      "text/plain": [
       "<seaborn.axisgrid.JointGrid at 0x1e6663c35e0>"
      ]
     },
     "execution_count": 250,
     "metadata": {},
     "output_type": "execute_result"
    },
    {
     "data": {
      "image/png": "[encoded data removed]",
      "text/plain": [
       "<Figure size 432x432 with 3 Axes>"
      ]
     },
     "metadata": {
      "needs_background": "light"
     },
     "output_type": "display_data"
    }
   ],
   "source": [
    "sns.jointplot(x=data_df_to_explore['sentiment_subjectivity'], y=data_df_to_explore['count'])"
   ]
  },
  {
   "cell_type": "code",
   "execution_count": 251,
   "id": "a9bfe212",
   "metadata": {},
   "outputs": [
    {
     "data": {
      "text/plain": [
       "<seaborn.axisgrid.JointGrid at 0x1e60d8aebe0>"
      ]
     },
     "execution_count": 251,
     "metadata": {},
     "output_type": "execute_result"
    },
    {
     "data": {
      "image/png": "[encoded data removed]",
      "text/plain": [
       "<Figure size 432x432 with 3 Axes>"
      ]
     },
     "metadata": {
      "needs_background": "light"
     },
     "output_type": "display_data"
    }
   ],
   "source": [
    "sns.jointplot(x=data_df_to_explore['sentiment_subjectivity'], y=data_df_to_explore['delta_time'])"
   ]
  },
  {
   "cell_type": "markdown",
   "id": "ee6af6c8",
   "metadata": {},
   "source": [
    "**Commentaires**:\n",
    "- pas tres polarisé donc pas exploitable telquel\n",
    "- mais a cleaner a croiser à d'autres données comme topic et community"
   ]
  }
 ],
 "metadata": {
  "kernelspec": {
   "display_name": "Python 3",
   "language": "python",
   "name": "python3"
  },
  "language_info": {
   "codemirror_mode": {
    "name": "ipython",
    "version": 3
   },
   "file_extension": ".py",
   "mimetype": "text/x-python",
   "name": "python",
   "nbconvert_exporter": "python",
   "pygments_lexer": "ipython3",
   "version": "3.8.8"
  }
 },
 "nbformat": 4,
 "nbformat_minor": 5
}
