{
 "cells": [
  {
   "cell_type": "code",
   "execution_count": 217,
   "metadata": {},
   "outputs": [],
   "source": [
    "import pandas as pd\n",
    "import networkx as nx\n",
    "import community\n",
    "from sklearn.feature_extraction.text import CountVectorizer\n",
    "import re"
   ]
  },
  {
   "cell_type": "code",
   "execution_count": 218,
   "metadata": {},
   "outputs": [],
   "source": [
    "def compute_cluster(df):\n",
    "    \"\"\"\n",
    "    df: DataFrame with at least columns ['pseudo', 'retweeted_screen_name', 'tweet_date']\n",
    "    \n",
    "    \"\"\"\n",
    "    print('Build graph...')\n",
    "    G = nx.DiGraph()\n",
    "    df_for_graph = df[df.retweeted_screen_name.notna()][[\"pseudo\", \"retweeted_screen_name\", \"tweet_date\"]]\n",
    "    for i, j in df[df.retweeted_screen_name.notna()][[\"pseudo\", \"retweeted_screen_name\", \"tweet_date\"]].iterrows():\n",
    "        G.add_edge(j.pseudo, j.retweeted_screen_name, date=j.tweet_date)\n",
    "    \n",
    "    print('Find clusters...')\n",
    "    Gc = nx.subgraph(G, max(nx.connected_components(nx.Graph(G)), key=len))\n",
    "    comms = community.best_partition(nx.Graph(Gc))\n",
    "    \n",
    "    #clusters = dict()\n",
    "    #for k in comms.keys():\n",
    "    #    if comms[k] in clusters:\n",
    "    #        clusters[comms[k]].append(k)\n",
    "    #    else:\n",
    "    #        clusters[comms[k]] = [k]\n",
    "    \n",
    "    clust = []\n",
    "    for i, pseudo in enumerate(df['pseudo']):\n",
    "        if pseudo in comms.keys():\n",
    "            clust.append(comms[pseudo])\n",
    "        else:\n",
    "            clust.append(-1)       # -1 if the node of the pseudo is not in the giant connected component\n",
    "    \n",
    "    df['cluster'] = clust"
   ]
  },
  {
   "cell_type": "code",
   "execution_count": 219,
   "metadata": {},
   "outputs": [
    {
     "name": "stderr",
     "output_type": "stream",
     "text": [
      "C:\\Users\\noiry\\anaconda3\\lib\\site-packages\\IPython\\core\\interactiveshell.py:3146: DtypeWarning: Columns (1,11) have mixed types.Specify dtype option on import or set low_memory=False.\n",
      "  has_raised = await self.run_ast_nodes(code_ast.body, cell_name,\n"
     ]
    },
    {
     "name": "stdout",
     "output_type": "stream",
     "text": [
      "Build graph...\n",
      "Find clusters...\n"
     ]
    }
   ],
   "source": [
    "df = pd.read_csv('clean_tweets.csv')\n",
    "compute_cluster(df)"
   ]
  },
  {
   "cell_type": "code",
   "execution_count": null,
   "metadata": {},
   "outputs": [],
   "source": []
  }
 ],
 "metadata": {
  "kernelspec": {
   "display_name": "Python 3",
   "language": "python",
   "name": "python3"
  },
  "language_info": {
   "codemirror_mode": {
    "name": "ipython",
    "version": 3
   },
   "file_extension": ".py",
   "mimetype": "text/x-python",
   "name": "python",
   "nbconvert_exporter": "python",
   "pygments_lexer": "ipython3",
   "version": "3.8.5"
  }
 },
 "nbformat": 4,
 "nbformat_minor": 4
}
