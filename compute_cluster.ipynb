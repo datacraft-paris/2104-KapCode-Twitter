{
 "cells": [
  {
   "cell_type": "code",
   "execution_count": 238,
   "metadata": {},
   "outputs": [],
   "source": [
    "import pandas as pd\n",
    "import networkx as nx\n",
    "import community"
   ]
  },
  {
   "cell_type": "code",
   "execution_count": 242,
   "metadata": {},
   "outputs": [],
   "source": [
    "def compute_cluster(df):\n",
    "    \"\"\"\n",
    "    df: DataFrame with at least columns ['pseudo', 'retweeted_screen_name', 'tweet_date']\n",
    "    \n",
    "    \"\"\"\n",
    "    print('Build graph...')\n",
    "    G = nx.DiGraph()\n",
    "    df_for_graph = df[df.retweeted_screen_name.notna()][[\"pseudo\", \"retweeted_screen_name\", \"tweet_date\"]]\n",
    "    for i, j in df[df.retweeted_screen_name.notna()][[\"pseudo\", \"retweeted_screen_name\", \"tweet_date\"]].iterrows():\n",
    "        G.add_edge(j.pseudo, j.retweeted_screen_name, date=j.tweet_date)\n",
    "    \n",
    "    print('Find clusters...')\n",
    "    Gc = nx.subgraph(G, max(nx.connected_components(nx.Graph(G)), key=len))\n",
    "    comms = community.best_partition(nx.Graph(Gc))\n",
    "    \n",
    "    clust = []\n",
    "    for i, pseudo in enumerate(df['pseudo']):\n",
    "        if pseudo in comms.keys():\n",
    "            clust.append(comms[pseudo])\n",
    "        else:\n",
    "            clust.append(-1)       # -1 if the node of the pseudo is not in the giant connected component\n",
    "    \n",
    "    df['cluster'] = clust"
   ]
  },
  {
   "cell_type": "code",
   "execution_count": 243,
   "metadata": {},
   "outputs": [
    {
     "name": "stdout",
     "output_type": "stream",
     "text": [
      "Build graph...\n",
      "Find clusters...\n"
     ]
    }
   ],
   "source": [
    "df = pd.read_csv('clean_tweets.csv')\n",
    "compute_cluster(df)"
   ]
  },
  {
   "cell_type": "code",
   "execution_count": 244,
   "metadata": {},
   "outputs": [
    {
     "data": {
      "text/plain": [
       "0         -1\n",
       "1         -1\n",
       "2         24\n",
       "3          1\n",
       "4          2\n",
       "          ..\n",
       "193213    12\n",
       "193214    12\n",
       "193215    12\n",
       "193216    12\n",
       "193217    12\n",
       "Name: cluster, Length: 193218, dtype: int64"
      ]
     },
     "execution_count": 244,
     "metadata": {},
     "output_type": "execute_result"
    }
   ],
   "source": [
    "df['cluster']"
   ]
  },
  {
   "cell_type": "code",
   "execution_count": null,
   "metadata": {},
   "outputs": [],
   "source": []
  }
 ],
 "metadata": {
  "kernelspec": {
   "display_name": "Python 3",
   "language": "python",
   "name": "python3"
  },
  "language_info": {
   "codemirror_mode": {
    "name": "ipython",
    "version": 3
   },
   "file_extension": ".py",
   "mimetype": "text/x-python",
   "name": "python",
   "nbconvert_exporter": "python",
   "pygments_lexer": "ipython3",
   "version": "3.8.5"
  }
 },
 "nbformat": 4,
 "nbformat_minor": 4
}
